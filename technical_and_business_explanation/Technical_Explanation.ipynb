{
 "cells": [
  {
   "cell_type": "markdown",
   "metadata": {},
   "source": [
    "<font size=5 >Credit Card Approval Prediction Using Sklearn</font>"
   ]
  },
  {
   "cell_type": "code",
   "execution_count": 1,
   "metadata": {
    "tags": []
   },
   "outputs": [],
   "source": [
    "# Data Analysis and Manipulation\n",
    "import numpy as np\n",
    "import pandas as pd \n",
    "import missingno as msno\n",
    "\n",
    "#Data Visualization\n",
    "import matplotlib.pyplot as plt\n",
    "import seaborn as sns\n",
    "\n",
    "#Sampling data\n",
    "from imblearn.over_sampling import SMOTE\n",
    "\n",
    "#Modelling\n",
    "from sklearn.model_selection import train_test_split\n",
    "import itertools\n",
    "from sklearn.metrics import accuracy_score, confusion_matrix\n",
    "from sklearn.linear_model import LogisticRegression\n",
    "from sklearn.tree import DecisionTreeClassifier\n",
    "from xgboost import XGBClassifier\n",
    "from sklearn import svm\n",
    "from sklearn.ensemble import RandomForestClassifier\n",
    "import joblib\n",
    "\n",
    "#Ignore Warnings\n",
    "import warnings\n",
    "warnings.filterwarnings('ignore')\n",
    " \n"
   ]
  },
  {
   "cell_type": "code",
   "execution_count": 2,
   "metadata": {
    "tags": []
   },
   "outputs": [],
   "source": [
    "#Import data\n",
    "app_data = pd.read_csv(\"../data/application_record.csv\", encoding = 'utf-8') \n",
    "credit_record = pd.read_csv(\"../data/credit_record.csv\", encoding = 'utf-8')  "
   ]
  },
  {
   "cell_type": "code",
   "execution_count": 3,
   "metadata": {},
   "outputs": [
    {
     "data": {
      "text/html": [
       "<div>\n",
       "<style scoped>\n",
       "    .dataframe tbody tr th:only-of-type {\n",
       "        vertical-align: middle;\n",
       "    }\n",
       "\n",
       "    .dataframe tbody tr th {\n",
       "        vertical-align: top;\n",
       "    }\n",
       "\n",
       "    .dataframe thead th {\n",
       "        text-align: right;\n",
       "    }\n",
       "</style>\n",
       "<table border=\"1\" class=\"dataframe\">\n",
       "  <thead>\n",
       "    <tr style=\"text-align: right;\">\n",
       "      <th></th>\n",
       "      <th>ID</th>\n",
       "      <th>CODE_GENDER</th>\n",
       "      <th>FLAG_OWN_CAR</th>\n",
       "      <th>FLAG_OWN_REALTY</th>\n",
       "      <th>CNT_CHILDREN</th>\n",
       "      <th>AMT_INCOME_TOTAL</th>\n",
       "      <th>NAME_INCOME_TYPE</th>\n",
       "      <th>NAME_EDUCATION_TYPE</th>\n",
       "      <th>NAME_FAMILY_STATUS</th>\n",
       "      <th>NAME_HOUSING_TYPE</th>\n",
       "      <th>DAYS_BIRTH</th>\n",
       "      <th>DAYS_EMPLOYED</th>\n",
       "      <th>FLAG_MOBIL</th>\n",
       "      <th>FLAG_WORK_PHONE</th>\n",
       "      <th>FLAG_PHONE</th>\n",
       "      <th>FLAG_EMAIL</th>\n",
       "      <th>OCCUPATION_TYPE</th>\n",
       "      <th>CNT_FAM_MEMBERS</th>\n",
       "    </tr>\n",
       "  </thead>\n",
       "  <tbody>\n",
       "    <tr>\n",
       "      <th>0</th>\n",
       "      <td>5008804</td>\n",
       "      <td>M</td>\n",
       "      <td>Y</td>\n",
       "      <td>Y</td>\n",
       "      <td>0</td>\n",
       "      <td>427500.0</td>\n",
       "      <td>Working</td>\n",
       "      <td>Higher education</td>\n",
       "      <td>Civil marriage</td>\n",
       "      <td>Rented apartment</td>\n",
       "      <td>-12005</td>\n",
       "      <td>-4542</td>\n",
       "      <td>1</td>\n",
       "      <td>1</td>\n",
       "      <td>0</td>\n",
       "      <td>0</td>\n",
       "      <td>NaN</td>\n",
       "      <td>2.0</td>\n",
       "    </tr>\n",
       "    <tr>\n",
       "      <th>1</th>\n",
       "      <td>5008805</td>\n",
       "      <td>M</td>\n",
       "      <td>Y</td>\n",
       "      <td>Y</td>\n",
       "      <td>0</td>\n",
       "      <td>427500.0</td>\n",
       "      <td>Working</td>\n",
       "      <td>Higher education</td>\n",
       "      <td>Civil marriage</td>\n",
       "      <td>Rented apartment</td>\n",
       "      <td>-12005</td>\n",
       "      <td>-4542</td>\n",
       "      <td>1</td>\n",
       "      <td>1</td>\n",
       "      <td>0</td>\n",
       "      <td>0</td>\n",
       "      <td>NaN</td>\n",
       "      <td>2.0</td>\n",
       "    </tr>\n",
       "    <tr>\n",
       "      <th>2</th>\n",
       "      <td>5008806</td>\n",
       "      <td>M</td>\n",
       "      <td>Y</td>\n",
       "      <td>Y</td>\n",
       "      <td>0</td>\n",
       "      <td>112500.0</td>\n",
       "      <td>Working</td>\n",
       "      <td>Secondary / secondary special</td>\n",
       "      <td>Married</td>\n",
       "      <td>House / apartment</td>\n",
       "      <td>-21474</td>\n",
       "      <td>-1134</td>\n",
       "      <td>1</td>\n",
       "      <td>0</td>\n",
       "      <td>0</td>\n",
       "      <td>0</td>\n",
       "      <td>Security staff</td>\n",
       "      <td>2.0</td>\n",
       "    </tr>\n",
       "    <tr>\n",
       "      <th>3</th>\n",
       "      <td>5008808</td>\n",
       "      <td>F</td>\n",
       "      <td>N</td>\n",
       "      <td>Y</td>\n",
       "      <td>0</td>\n",
       "      <td>270000.0</td>\n",
       "      <td>Commercial associate</td>\n",
       "      <td>Secondary / secondary special</td>\n",
       "      <td>Single / not married</td>\n",
       "      <td>House / apartment</td>\n",
       "      <td>-19110</td>\n",
       "      <td>-3051</td>\n",
       "      <td>1</td>\n",
       "      <td>0</td>\n",
       "      <td>1</td>\n",
       "      <td>1</td>\n",
       "      <td>Sales staff</td>\n",
       "      <td>1.0</td>\n",
       "    </tr>\n",
       "    <tr>\n",
       "      <th>4</th>\n",
       "      <td>5008809</td>\n",
       "      <td>F</td>\n",
       "      <td>N</td>\n",
       "      <td>Y</td>\n",
       "      <td>0</td>\n",
       "      <td>270000.0</td>\n",
       "      <td>Commercial associate</td>\n",
       "      <td>Secondary / secondary special</td>\n",
       "      <td>Single / not married</td>\n",
       "      <td>House / apartment</td>\n",
       "      <td>-19110</td>\n",
       "      <td>-3051</td>\n",
       "      <td>1</td>\n",
       "      <td>0</td>\n",
       "      <td>1</td>\n",
       "      <td>1</td>\n",
       "      <td>Sales staff</td>\n",
       "      <td>1.0</td>\n",
       "    </tr>\n",
       "  </tbody>\n",
       "</table>\n",
       "</div>"
      ],
      "text/plain": [
       "        ID CODE_GENDER FLAG_OWN_CAR FLAG_OWN_REALTY  CNT_CHILDREN  \\\n",
       "0  5008804           M            Y               Y             0   \n",
       "1  5008805           M            Y               Y             0   \n",
       "2  5008806           M            Y               Y             0   \n",
       "3  5008808           F            N               Y             0   \n",
       "4  5008809           F            N               Y             0   \n",
       "\n",
       "   AMT_INCOME_TOTAL      NAME_INCOME_TYPE            NAME_EDUCATION_TYPE  \\\n",
       "0          427500.0               Working               Higher education   \n",
       "1          427500.0               Working               Higher education   \n",
       "2          112500.0               Working  Secondary / secondary special   \n",
       "3          270000.0  Commercial associate  Secondary / secondary special   \n",
       "4          270000.0  Commercial associate  Secondary / secondary special   \n",
       "\n",
       "     NAME_FAMILY_STATUS  NAME_HOUSING_TYPE  DAYS_BIRTH  DAYS_EMPLOYED  \\\n",
       "0        Civil marriage   Rented apartment      -12005          -4542   \n",
       "1        Civil marriage   Rented apartment      -12005          -4542   \n",
       "2               Married  House / apartment      -21474          -1134   \n",
       "3  Single / not married  House / apartment      -19110          -3051   \n",
       "4  Single / not married  House / apartment      -19110          -3051   \n",
       "\n",
       "   FLAG_MOBIL  FLAG_WORK_PHONE  FLAG_PHONE  FLAG_EMAIL OCCUPATION_TYPE  \\\n",
       "0           1                1           0           0             NaN   \n",
       "1           1                1           0           0             NaN   \n",
       "2           1                0           0           0  Security staff   \n",
       "3           1                0           1           1     Sales staff   \n",
       "4           1                0           1           1     Sales staff   \n",
       "\n",
       "   CNT_FAM_MEMBERS  \n",
       "0              2.0  \n",
       "1              2.0  \n",
       "2              2.0  \n",
       "3              1.0  \n",
       "4              1.0  "
      ]
     },
     "execution_count": 3,
     "metadata": {},
     "output_type": "execute_result"
    }
   ],
   "source": [
    "app_data.head()"
   ]
  },
  {
   "cell_type": "code",
   "execution_count": 4,
   "metadata": {
    "tags": []
   },
   "outputs": [
    {
     "name": "stdout",
     "output_type": "stream",
     "text": [
      "<class 'pandas.core.frame.DataFrame'>\n",
      "RangeIndex: 438557 entries, 0 to 438556\n",
      "Data columns (total 18 columns):\n",
      " #   Column               Non-Null Count   Dtype  \n",
      "---  ------               --------------   -----  \n",
      " 0   ID                   438557 non-null  int64  \n",
      " 1   CODE_GENDER          438557 non-null  object \n",
      " 2   FLAG_OWN_CAR         438557 non-null  object \n",
      " 3   FLAG_OWN_REALTY      438557 non-null  object \n",
      " 4   CNT_CHILDREN         438557 non-null  int64  \n",
      " 5   AMT_INCOME_TOTAL     438557 non-null  float64\n",
      " 6   NAME_INCOME_TYPE     438557 non-null  object \n",
      " 7   NAME_EDUCATION_TYPE  438557 non-null  object \n",
      " 8   NAME_FAMILY_STATUS   438557 non-null  object \n",
      " 9   NAME_HOUSING_TYPE    438557 non-null  object \n",
      " 10  DAYS_BIRTH           438557 non-null  int64  \n",
      " 11  DAYS_EMPLOYED        438557 non-null  int64  \n",
      " 12  FLAG_MOBIL           438557 non-null  int64  \n",
      " 13  FLAG_WORK_PHONE      438557 non-null  int64  \n",
      " 14  FLAG_PHONE           438557 non-null  int64  \n",
      " 15  FLAG_EMAIL           438557 non-null  int64  \n",
      " 16  OCCUPATION_TYPE      304354 non-null  object \n",
      " 17  CNT_FAM_MEMBERS      438557 non-null  float64\n",
      "dtypes: float64(2), int64(8), object(8)\n",
      "memory usage: 60.2+ MB\n"
     ]
    }
   ],
   "source": [
    "app_data.info() #Information about the data"
   ]
  },
  {
   "cell_type": "code",
   "execution_count": 5,
   "metadata": {},
   "outputs": [
    {
     "data": {
      "text/html": [
       "<div>\n",
       "<style scoped>\n",
       "    .dataframe tbody tr th:only-of-type {\n",
       "        vertical-align: middle;\n",
       "    }\n",
       "\n",
       "    .dataframe tbody tr th {\n",
       "        vertical-align: top;\n",
       "    }\n",
       "\n",
       "    .dataframe thead th {\n",
       "        text-align: right;\n",
       "    }\n",
       "</style>\n",
       "<table border=\"1\" class=\"dataframe\">\n",
       "  <thead>\n",
       "    <tr style=\"text-align: right;\">\n",
       "      <th></th>\n",
       "      <th>ID</th>\n",
       "      <th>MONTHS_BALANCE</th>\n",
       "      <th>STATUS</th>\n",
       "    </tr>\n",
       "  </thead>\n",
       "  <tbody>\n",
       "    <tr>\n",
       "      <th>0</th>\n",
       "      <td>5001711</td>\n",
       "      <td>0</td>\n",
       "      <td>X</td>\n",
       "    </tr>\n",
       "    <tr>\n",
       "      <th>1</th>\n",
       "      <td>5001711</td>\n",
       "      <td>-1</td>\n",
       "      <td>0</td>\n",
       "    </tr>\n",
       "    <tr>\n",
       "      <th>2</th>\n",
       "      <td>5001711</td>\n",
       "      <td>-2</td>\n",
       "      <td>0</td>\n",
       "    </tr>\n",
       "    <tr>\n",
       "      <th>3</th>\n",
       "      <td>5001711</td>\n",
       "      <td>-3</td>\n",
       "      <td>0</td>\n",
       "    </tr>\n",
       "    <tr>\n",
       "      <th>4</th>\n",
       "      <td>5001712</td>\n",
       "      <td>0</td>\n",
       "      <td>C</td>\n",
       "    </tr>\n",
       "  </tbody>\n",
       "</table>\n",
       "</div>"
      ],
      "text/plain": [
       "        ID  MONTHS_BALANCE STATUS\n",
       "0  5001711               0      X\n",
       "1  5001711              -1      0\n",
       "2  5001711              -2      0\n",
       "3  5001711              -3      0\n",
       "4  5001712               0      C"
      ]
     },
     "execution_count": 5,
     "metadata": {},
     "output_type": "execute_result"
    }
   ],
   "source": [
    "credit_record.head()\n"
   ]
  },
  {
   "cell_type": "code",
   "execution_count": 6,
   "metadata": {
    "tags": []
   },
   "outputs": [
    {
     "name": "stdout",
     "output_type": "stream",
     "text": [
      "<class 'pandas.core.frame.DataFrame'>\n",
      "RangeIndex: 1048575 entries, 0 to 1048574\n",
      "Data columns (total 3 columns):\n",
      " #   Column          Non-Null Count    Dtype \n",
      "---  ------          --------------    ----- \n",
      " 0   ID              1048575 non-null  int64 \n",
      " 1   MONTHS_BALANCE  1048575 non-null  int64 \n",
      " 2   STATUS          1048575 non-null  object\n",
      "dtypes: int64(2), object(1)\n",
      "memory usage: 24.0+ MB\n"
     ]
    }
   ],
   "source": [
    "credit_record.info()"
   ]
  },
  {
   "cell_type": "markdown",
   "metadata": {},
   "source": [
    "## Understanding the Data"
   ]
  },
  {
   "cell_type": "markdown",
   "metadata": {},
   "source": [
    "### Data Unique Values"
   ]
  },
  {
   "cell_type": "code",
   "execution_count": 7,
   "metadata": {},
   "outputs": [
    {
     "name": "stdout",
     "output_type": "stream",
     "text": [
      "Number of unique IDs for credit records: 45985\n",
      "Number of unique clients in application data: 438510\n"
     ]
    }
   ],
   "source": [
    "print(\"Number of unique IDs for credit records: {}\".format(len(credit_record.ID.unique())))\n",
    "print(\"Number of unique clients in application data: {}\".format(len(app_data.ID.unique())))\n"
   ]
  },
  {
   "cell_type": "code",
   "execution_count": 8,
   "metadata": {},
   "outputs": [
    {
     "name": "stdout",
     "output_type": "stream",
     "text": [
      "The avg income of loan applicant: 187524.28544294127\n"
     ]
    }
   ],
   "source": [
    "print(\"The avg income of loan applicant: {}\".format((app_data['AMT_INCOME_TOTAL']).astype(int).mean()))"
   ]
  },
  {
   "cell_type": "code",
   "execution_count": 9,
   "metadata": {},
   "outputs": [
    {
     "data": {
      "text/plain": [
       "36457"
      ]
     },
     "execution_count": 9,
     "metadata": {},
     "output_type": "execute_result"
    }
   ],
   "source": [
    "# checking to see how many records match in two datasets\n",
    "len(set(credit_record['ID']).intersection(set(app_data['ID']))) "
   ]
  },
  {
   "cell_type": "markdown",
   "metadata": {},
   "source": [
    "The number of unique ids in the two datasets is not equal. There are more clients in the credit records than in the application dataset. \n",
    "\n",
    "The intersection is 36,457 customers"
   ]
  },
  {
   "cell_type": "markdown",
   "metadata": {},
   "source": [
    "### Dealing with Missing Values"
   ]
  },
  {
   "cell_type": "code",
   "execution_count": 10,
   "metadata": {},
   "outputs": [],
   "source": [
    "def missing_values(df):\n",
    "    \"\"\"\n",
    "    missing_values find columns with missing values and other information about the columns.\n",
    "\n",
    "    df: A Dataframe\n",
    "    return: A dataframe with missing values information    \n",
    "    \n",
    "    \"\"\"\n",
    "    zero_val = (df == 0.00).astype(int).sum(axis=0)\n",
    "    mis_val = df.isnull().sum()\n",
    "    mis_val_percent = 100 * df.isnull().sum() / len(df)\n",
    "    mz_table = pd.concat([zero_val, mis_val, mis_val_percent], axis=1)\n",
    "    mz_table = mz_table.rename(\n",
    "    columns = {0 : 'Zero Values', \n",
    "               1 : 'Missing Values', \n",
    "               2 : '% of Total Values'})\n",
    "    mz_table['Total Zero Missing Values'] = mz_table['Zero Values'] + mz_table['Missing Values']\n",
    "    mz_table['% Total Zero Missing Values'] = 100 * mz_table['Total Zero Missing Values'] / len(df)\n",
    "    mz_table['Data Type'] = df.dtypes\n",
    "    mz_table = mz_table[\n",
    "        mz_table.iloc[:,1] != 0].sort_values(\n",
    "    '% of Total Values', ascending=False).round(1)\n",
    "    print (\"Your selected dataframe has \" + str(df.shape[1]) + \" columns and \" + str(df.shape[0]) + \" Rows.\\n\"      \n",
    "        \"There are \" + str(mz_table.shape[0]) +\n",
    "          \" columns that have missing values.\")\n",
    "    return mz_table"
   ]
  },
  {
   "cell_type": "code",
   "execution_count": 11,
   "metadata": {},
   "outputs": [
    {
     "name": "stdout",
     "output_type": "stream",
     "text": [
      "Your selected dataframe has 18 columns and 438557 Rows.\n",
      "There are 1 columns that have missing values.\n"
     ]
    },
    {
     "data": {
      "text/html": [
       "<div>\n",
       "<style scoped>\n",
       "    .dataframe tbody tr th:only-of-type {\n",
       "        vertical-align: middle;\n",
       "    }\n",
       "\n",
       "    .dataframe tbody tr th {\n",
       "        vertical-align: top;\n",
       "    }\n",
       "\n",
       "    .dataframe thead th {\n",
       "        text-align: right;\n",
       "    }\n",
       "</style>\n",
       "<table border=\"1\" class=\"dataframe\">\n",
       "  <thead>\n",
       "    <tr style=\"text-align: right;\">\n",
       "      <th></th>\n",
       "      <th>Zero Values</th>\n",
       "      <th>Missing Values</th>\n",
       "      <th>% of Total Values</th>\n",
       "      <th>Total Zero Missing Values</th>\n",
       "      <th>% Total Zero Missing Values</th>\n",
       "      <th>Data Type</th>\n",
       "    </tr>\n",
       "  </thead>\n",
       "  <tbody>\n",
       "    <tr>\n",
       "      <th>OCCUPATION_TYPE</th>\n",
       "      <td>0</td>\n",
       "      <td>134203</td>\n",
       "      <td>30.6</td>\n",
       "      <td>134203</td>\n",
       "      <td>30.6</td>\n",
       "      <td>object</td>\n",
       "    </tr>\n",
       "  </tbody>\n",
       "</table>\n",
       "</div>"
      ],
      "text/plain": [
       "                 Zero Values  Missing Values  % of Total Values  \\\n",
       "OCCUPATION_TYPE            0          134203               30.6   \n",
       "\n",
       "                 Total Zero Missing Values  % Total Zero Missing Values  \\\n",
       "OCCUPATION_TYPE                     134203                         30.6   \n",
       "\n",
       "                Data Type  \n",
       "OCCUPATION_TYPE    object  "
      ]
     },
     "execution_count": 11,
     "metadata": {},
     "output_type": "execute_result"
    }
   ],
   "source": [
    "missing_values(app_data)"
   ]
  },
  {
   "cell_type": "markdown",
   "metadata": {},
   "source": [
    "This shows that 30.6% of our clients didn't indicate their occupation, we can't remove the rows with missing values because the  30% is beyond the standard threshold of 12-14%, so we will filled the missing values with \"Unspecified\""
   ]
  },
  {
   "cell_type": "markdown",
   "metadata": {},
   "source": [
    "We will deal with the missing values later"
   ]
  },
  {
   "cell_type": "markdown",
   "metadata": {},
   "source": [
    "# Feature Engineering"
   ]
  },
  {
   "cell_type": "code",
   "execution_count": 12,
   "metadata": {
    "tags": []
   },
   "outputs": [],
   "source": [
    "# getting the moneth users' account were opened.\n",
    "start_month = pd.DataFrame(credit_record.groupby([\"ID\"])[\"MONTHS_BALANCE\"].agg(min))\n",
    "start_month = start_month.rename(columns = {'MONTHS_BALANCE':'start_month'}) "
   ]
  },
  {
   "cell_type": "code",
   "execution_count": 13,
   "metadata": {},
   "outputs": [
    {
     "data": {
      "text/html": [
       "<div>\n",
       "<style scoped>\n",
       "    .dataframe tbody tr th:only-of-type {\n",
       "        vertical-align: middle;\n",
       "    }\n",
       "\n",
       "    .dataframe tbody tr th {\n",
       "        vertical-align: top;\n",
       "    }\n",
       "\n",
       "    .dataframe thead th {\n",
       "        text-align: right;\n",
       "    }\n",
       "</style>\n",
       "<table border=\"1\" class=\"dataframe\">\n",
       "  <thead>\n",
       "    <tr style=\"text-align: right;\">\n",
       "      <th></th>\n",
       "      <th>ID</th>\n",
       "      <th>CODE_GENDER</th>\n",
       "      <th>FLAG_OWN_CAR</th>\n",
       "      <th>FLAG_OWN_REALTY</th>\n",
       "      <th>CNT_CHILDREN</th>\n",
       "      <th>AMT_INCOME_TOTAL</th>\n",
       "      <th>NAME_INCOME_TYPE</th>\n",
       "      <th>NAME_EDUCATION_TYPE</th>\n",
       "      <th>NAME_FAMILY_STATUS</th>\n",
       "      <th>NAME_HOUSING_TYPE</th>\n",
       "      <th>DAYS_BIRTH</th>\n",
       "      <th>DAYS_EMPLOYED</th>\n",
       "      <th>FLAG_MOBIL</th>\n",
       "      <th>FLAG_WORK_PHONE</th>\n",
       "      <th>FLAG_PHONE</th>\n",
       "      <th>FLAG_EMAIL</th>\n",
       "      <th>OCCUPATION_TYPE</th>\n",
       "      <th>CNT_FAM_MEMBERS</th>\n",
       "      <th>start_month</th>\n",
       "    </tr>\n",
       "  </thead>\n",
       "  <tbody>\n",
       "    <tr>\n",
       "      <th>0</th>\n",
       "      <td>5008804</td>\n",
       "      <td>M</td>\n",
       "      <td>Y</td>\n",
       "      <td>Y</td>\n",
       "      <td>0</td>\n",
       "      <td>427500.0</td>\n",
       "      <td>Working</td>\n",
       "      <td>Higher education</td>\n",
       "      <td>Civil marriage</td>\n",
       "      <td>Rented apartment</td>\n",
       "      <td>-12005</td>\n",
       "      <td>-4542</td>\n",
       "      <td>1</td>\n",
       "      <td>1</td>\n",
       "      <td>0</td>\n",
       "      <td>0</td>\n",
       "      <td>NaN</td>\n",
       "      <td>2.0</td>\n",
       "      <td>-15.0</td>\n",
       "    </tr>\n",
       "    <tr>\n",
       "      <th>1</th>\n",
       "      <td>5008805</td>\n",
       "      <td>M</td>\n",
       "      <td>Y</td>\n",
       "      <td>Y</td>\n",
       "      <td>0</td>\n",
       "      <td>427500.0</td>\n",
       "      <td>Working</td>\n",
       "      <td>Higher education</td>\n",
       "      <td>Civil marriage</td>\n",
       "      <td>Rented apartment</td>\n",
       "      <td>-12005</td>\n",
       "      <td>-4542</td>\n",
       "      <td>1</td>\n",
       "      <td>1</td>\n",
       "      <td>0</td>\n",
       "      <td>0</td>\n",
       "      <td>NaN</td>\n",
       "      <td>2.0</td>\n",
       "      <td>-14.0</td>\n",
       "    </tr>\n",
       "    <tr>\n",
       "      <th>2</th>\n",
       "      <td>5008806</td>\n",
       "      <td>M</td>\n",
       "      <td>Y</td>\n",
       "      <td>Y</td>\n",
       "      <td>0</td>\n",
       "      <td>112500.0</td>\n",
       "      <td>Working</td>\n",
       "      <td>Secondary / secondary special</td>\n",
       "      <td>Married</td>\n",
       "      <td>House / apartment</td>\n",
       "      <td>-21474</td>\n",
       "      <td>-1134</td>\n",
       "      <td>1</td>\n",
       "      <td>0</td>\n",
       "      <td>0</td>\n",
       "      <td>0</td>\n",
       "      <td>Security staff</td>\n",
       "      <td>2.0</td>\n",
       "      <td>-29.0</td>\n",
       "    </tr>\n",
       "    <tr>\n",
       "      <th>3</th>\n",
       "      <td>5008808</td>\n",
       "      <td>F</td>\n",
       "      <td>N</td>\n",
       "      <td>Y</td>\n",
       "      <td>0</td>\n",
       "      <td>270000.0</td>\n",
       "      <td>Commercial associate</td>\n",
       "      <td>Secondary / secondary special</td>\n",
       "      <td>Single / not married</td>\n",
       "      <td>House / apartment</td>\n",
       "      <td>-19110</td>\n",
       "      <td>-3051</td>\n",
       "      <td>1</td>\n",
       "      <td>0</td>\n",
       "      <td>1</td>\n",
       "      <td>1</td>\n",
       "      <td>Sales staff</td>\n",
       "      <td>1.0</td>\n",
       "      <td>-4.0</td>\n",
       "    </tr>\n",
       "    <tr>\n",
       "      <th>4</th>\n",
       "      <td>5008809</td>\n",
       "      <td>F</td>\n",
       "      <td>N</td>\n",
       "      <td>Y</td>\n",
       "      <td>0</td>\n",
       "      <td>270000.0</td>\n",
       "      <td>Commercial associate</td>\n",
       "      <td>Secondary / secondary special</td>\n",
       "      <td>Single / not married</td>\n",
       "      <td>House / apartment</td>\n",
       "      <td>-19110</td>\n",
       "      <td>-3051</td>\n",
       "      <td>1</td>\n",
       "      <td>0</td>\n",
       "      <td>1</td>\n",
       "      <td>1</td>\n",
       "      <td>Sales staff</td>\n",
       "      <td>1.0</td>\n",
       "      <td>-26.0</td>\n",
       "    </tr>\n",
       "  </tbody>\n",
       "</table>\n",
       "</div>"
      ],
      "text/plain": [
       "        ID CODE_GENDER FLAG_OWN_CAR FLAG_OWN_REALTY  CNT_CHILDREN  \\\n",
       "0  5008804           M            Y               Y             0   \n",
       "1  5008805           M            Y               Y             0   \n",
       "2  5008806           M            Y               Y             0   \n",
       "3  5008808           F            N               Y             0   \n",
       "4  5008809           F            N               Y             0   \n",
       "\n",
       "   AMT_INCOME_TOTAL      NAME_INCOME_TYPE            NAME_EDUCATION_TYPE  \\\n",
       "0          427500.0               Working               Higher education   \n",
       "1          427500.0               Working               Higher education   \n",
       "2          112500.0               Working  Secondary / secondary special   \n",
       "3          270000.0  Commercial associate  Secondary / secondary special   \n",
       "4          270000.0  Commercial associate  Secondary / secondary special   \n",
       "\n",
       "     NAME_FAMILY_STATUS  NAME_HOUSING_TYPE  DAYS_BIRTH  DAYS_EMPLOYED  \\\n",
       "0        Civil marriage   Rented apartment      -12005          -4542   \n",
       "1        Civil marriage   Rented apartment      -12005          -4542   \n",
       "2               Married  House / apartment      -21474          -1134   \n",
       "3  Single / not married  House / apartment      -19110          -3051   \n",
       "4  Single / not married  House / apartment      -19110          -3051   \n",
       "\n",
       "   FLAG_MOBIL  FLAG_WORK_PHONE  FLAG_PHONE  FLAG_EMAIL OCCUPATION_TYPE  \\\n",
       "0           1                1           0           0             NaN   \n",
       "1           1                1           0           0             NaN   \n",
       "2           1                0           0           0  Security staff   \n",
       "3           1                0           1           1     Sales staff   \n",
       "4           1                0           1           1     Sales staff   \n",
       "\n",
       "   CNT_FAM_MEMBERS  start_month  \n",
       "0              2.0        -15.0  \n",
       "1              2.0        -14.0  \n",
       "2              2.0        -29.0  \n",
       "3              1.0         -4.0  \n",
       "4              1.0        -26.0  "
      ]
     },
     "execution_count": 13,
     "metadata": {},
     "output_type": "execute_result"
    }
   ],
   "source": [
    "new_df = pd.merge(app_data, start_month, how = \"left\", on = \"ID\")\n",
    "new_df.head()"
   ]
  },
  {
   "cell_type": "code",
   "execution_count": null,
   "metadata": {},
   "outputs": [],
   "source": []
  },
  {
   "cell_type": "code",
   "execution_count": 14,
   "metadata": {},
   "outputs": [
    {
     "name": "stdout",
     "output_type": "stream",
     "text": [
      "<class 'pandas.core.frame.DataFrame'>\n",
      "Int64Index: 438557 entries, 0 to 438556\n",
      "Data columns (total 19 columns):\n",
      " #   Column               Non-Null Count   Dtype  \n",
      "---  ------               --------------   -----  \n",
      " 0   ID                   438557 non-null  int64  \n",
      " 1   CODE_GENDER          438557 non-null  object \n",
      " 2   FLAG_OWN_CAR         438557 non-null  object \n",
      " 3   FLAG_OWN_REALTY      438557 non-null  object \n",
      " 4   CNT_CHILDREN         438557 non-null  int64  \n",
      " 5   AMT_INCOME_TOTAL     438557 non-null  float64\n",
      " 6   NAME_INCOME_TYPE     438557 non-null  object \n",
      " 7   NAME_EDUCATION_TYPE  438557 non-null  object \n",
      " 8   NAME_FAMILY_STATUS   438557 non-null  object \n",
      " 9   NAME_HOUSING_TYPE    438557 non-null  object \n",
      " 10  DAYS_BIRTH           438557 non-null  int64  \n",
      " 11  DAYS_EMPLOYED        438557 non-null  int64  \n",
      " 12  FLAG_MOBIL           438557 non-null  int64  \n",
      " 13  FLAG_WORK_PHONE      438557 non-null  int64  \n",
      " 14  FLAG_PHONE           438557 non-null  int64  \n",
      " 15  FLAG_EMAIL           438557 non-null  int64  \n",
      " 16  OCCUPATION_TYPE      304354 non-null  object \n",
      " 17  CNT_FAM_MEMBERS      438557 non-null  float64\n",
      " 18  start_month          36457 non-null   float64\n",
      "dtypes: float64(3), int64(8), object(8)\n",
      "memory usage: 66.9+ MB\n"
     ]
    }
   ],
   "source": [
    "new_df.info()"
   ]
  },
  {
   "cell_type": "markdown",
   "metadata": {},
   "source": [
    "### Categorizing The Default Status"
   ]
  },
  {
   "cell_type": "code",
   "execution_count": 15,
   "metadata": {},
   "outputs": [
    {
     "name": "stdout",
     "output_type": "stream",
     "text": [
      "non-default    442031\n",
      "default        397314\n",
      "Name: default_status, dtype: int64\n"
     ]
    },
    {
     "data": {
      "text/plain": [
       "non-default    0.526638\n",
       "default        0.473362\n",
       "Name: default_status, dtype: float64"
      ]
     },
     "execution_count": 15,
     "metadata": {},
     "output_type": "execute_result"
    }
   ],
   "source": [
    "category = ['0', '1', '2', '3', '4', '5']\n",
    "loan_user = credit_record[credit_record['STATUS'] != \"X\"]\n",
    "loan_user['default_status'] = loan_user['STATUS'].apply(lambda x: \"default\" if x in category else 'non-default')\n",
    "loan_user.head()\n",
    "print(loan_user['default_status'].value_counts())\n",
    "loan_user['default_status'].value_counts(normalize=True)"
   ]
  },
  {
   "cell_type": "markdown",
   "metadata": {},
   "source": [
    "I will choose users who are past due by 60 days as bad debtors. They are marked as '1', others are '0'."
   ]
  },
  {
   "cell_type": "code",
   "execution_count": 16,
   "metadata": {},
   "outputs": [],
   "source": [
    "#Classifiying them into 0 and 1\n",
    "category = ['2', '3', '4', '5']\n",
    "\n",
    "credit_record['debt_class'] = credit_record['STATUS'].apply(lambda x: \"yes\" if x in category else 'no')\n",
    "credit_record.head()\n",
    "id_count = credit_record.groupby('ID').count()"
   ]
  },
  {
   "cell_type": "code",
   "execution_count": 17,
   "metadata": {},
   "outputs": [
    {
     "data": {
      "text/html": [
       "<div>\n",
       "<style scoped>\n",
       "    .dataframe tbody tr th:only-of-type {\n",
       "        vertical-align: middle;\n",
       "    }\n",
       "\n",
       "    .dataframe tbody tr th {\n",
       "        vertical-align: top;\n",
       "    }\n",
       "\n",
       "    .dataframe thead th {\n",
       "        text-align: right;\n",
       "    }\n",
       "</style>\n",
       "<table border=\"1\" class=\"dataframe\">\n",
       "  <thead>\n",
       "    <tr style=\"text-align: right;\">\n",
       "      <th></th>\n",
       "      <th>ID</th>\n",
       "      <th>MONTHS_BALANCE</th>\n",
       "      <th>STATUS</th>\n",
       "      <th>debt_class</th>\n",
       "    </tr>\n",
       "  </thead>\n",
       "  <tbody>\n",
       "    <tr>\n",
       "      <th>0</th>\n",
       "      <td>5001711</td>\n",
       "      <td>0</td>\n",
       "      <td>X</td>\n",
       "      <td>no</td>\n",
       "    </tr>\n",
       "    <tr>\n",
       "      <th>1</th>\n",
       "      <td>5001711</td>\n",
       "      <td>-1</td>\n",
       "      <td>0</td>\n",
       "      <td>no</td>\n",
       "    </tr>\n",
       "    <tr>\n",
       "      <th>2</th>\n",
       "      <td>5001711</td>\n",
       "      <td>-2</td>\n",
       "      <td>0</td>\n",
       "      <td>no</td>\n",
       "    </tr>\n",
       "    <tr>\n",
       "      <th>3</th>\n",
       "      <td>5001711</td>\n",
       "      <td>-3</td>\n",
       "      <td>0</td>\n",
       "      <td>no</td>\n",
       "    </tr>\n",
       "    <tr>\n",
       "      <th>4</th>\n",
       "      <td>5001712</td>\n",
       "      <td>0</td>\n",
       "      <td>C</td>\n",
       "      <td>no</td>\n",
       "    </tr>\n",
       "  </tbody>\n",
       "</table>\n",
       "</div>"
      ],
      "text/plain": [
       "        ID  MONTHS_BALANCE STATUS debt_class\n",
       "0  5001711               0      X         no\n",
       "1  5001711              -1      0         no\n",
       "2  5001711              -2      0         no\n",
       "3  5001711              -3      0         no\n",
       "4  5001712               0      C         no"
      ]
     },
     "execution_count": 17,
     "metadata": {},
     "output_type": "execute_result"
    }
   ],
   "source": [
    "credit_record.head()\n",
    "# cpunt['dep_value'][cpunt['dep_value'] > 0]='Yes' \n",
    "# cpunt['dep_value'][cpunt['dep_value'] == 0]='No'"
   ]
  },
  {
   "cell_type": "code",
   "execution_count": 18,
   "metadata": {},
   "outputs": [
    {
     "data": {
      "text/html": [
       "<div>\n",
       "<style scoped>\n",
       "    .dataframe tbody tr th:only-of-type {\n",
       "        vertical-align: middle;\n",
       "    }\n",
       "\n",
       "    .dataframe tbody tr th {\n",
       "        vertical-align: top;\n",
       "    }\n",
       "\n",
       "    .dataframe thead th {\n",
       "        text-align: right;\n",
       "    }\n",
       "</style>\n",
       "<table border=\"1\" class=\"dataframe\">\n",
       "  <thead>\n",
       "    <tr style=\"text-align: right;\">\n",
       "      <th></th>\n",
       "      <th>ID</th>\n",
       "      <th>CODE_GENDER</th>\n",
       "      <th>FLAG_OWN_CAR</th>\n",
       "      <th>FLAG_OWN_REALTY</th>\n",
       "      <th>CNT_CHILDREN</th>\n",
       "      <th>AMT_INCOME_TOTAL</th>\n",
       "      <th>NAME_INCOME_TYPE</th>\n",
       "      <th>NAME_EDUCATION_TYPE</th>\n",
       "      <th>NAME_FAMILY_STATUS</th>\n",
       "      <th>NAME_HOUSING_TYPE</th>\n",
       "      <th>...</th>\n",
       "      <th>FLAG_MOBIL</th>\n",
       "      <th>FLAG_WORK_PHONE</th>\n",
       "      <th>FLAG_PHONE</th>\n",
       "      <th>FLAG_EMAIL</th>\n",
       "      <th>OCCUPATION_TYPE</th>\n",
       "      <th>CNT_FAM_MEMBERS</th>\n",
       "      <th>start_month</th>\n",
       "      <th>MONTHS_BALANCE</th>\n",
       "      <th>STATUS</th>\n",
       "      <th>debt_class</th>\n",
       "    </tr>\n",
       "  </thead>\n",
       "  <tbody>\n",
       "    <tr>\n",
       "      <th>0</th>\n",
       "      <td>5008804</td>\n",
       "      <td>M</td>\n",
       "      <td>Y</td>\n",
       "      <td>Y</td>\n",
       "      <td>0</td>\n",
       "      <td>427500.0</td>\n",
       "      <td>Working</td>\n",
       "      <td>Higher education</td>\n",
       "      <td>Civil marriage</td>\n",
       "      <td>Rented apartment</td>\n",
       "      <td>...</td>\n",
       "      <td>1</td>\n",
       "      <td>1</td>\n",
       "      <td>0</td>\n",
       "      <td>0</td>\n",
       "      <td>NaN</td>\n",
       "      <td>2.0</td>\n",
       "      <td>-15.0</td>\n",
       "      <td>0</td>\n",
       "      <td>C</td>\n",
       "      <td>no</td>\n",
       "    </tr>\n",
       "    <tr>\n",
       "      <th>1</th>\n",
       "      <td>5008804</td>\n",
       "      <td>M</td>\n",
       "      <td>Y</td>\n",
       "      <td>Y</td>\n",
       "      <td>0</td>\n",
       "      <td>427500.0</td>\n",
       "      <td>Working</td>\n",
       "      <td>Higher education</td>\n",
       "      <td>Civil marriage</td>\n",
       "      <td>Rented apartment</td>\n",
       "      <td>...</td>\n",
       "      <td>1</td>\n",
       "      <td>1</td>\n",
       "      <td>0</td>\n",
       "      <td>0</td>\n",
       "      <td>NaN</td>\n",
       "      <td>2.0</td>\n",
       "      <td>-15.0</td>\n",
       "      <td>-1</td>\n",
       "      <td>C</td>\n",
       "      <td>no</td>\n",
       "    </tr>\n",
       "    <tr>\n",
       "      <th>2</th>\n",
       "      <td>5008804</td>\n",
       "      <td>M</td>\n",
       "      <td>Y</td>\n",
       "      <td>Y</td>\n",
       "      <td>0</td>\n",
       "      <td>427500.0</td>\n",
       "      <td>Working</td>\n",
       "      <td>Higher education</td>\n",
       "      <td>Civil marriage</td>\n",
       "      <td>Rented apartment</td>\n",
       "      <td>...</td>\n",
       "      <td>1</td>\n",
       "      <td>1</td>\n",
       "      <td>0</td>\n",
       "      <td>0</td>\n",
       "      <td>NaN</td>\n",
       "      <td>2.0</td>\n",
       "      <td>-15.0</td>\n",
       "      <td>-2</td>\n",
       "      <td>C</td>\n",
       "      <td>no</td>\n",
       "    </tr>\n",
       "    <tr>\n",
       "      <th>3</th>\n",
       "      <td>5008804</td>\n",
       "      <td>M</td>\n",
       "      <td>Y</td>\n",
       "      <td>Y</td>\n",
       "      <td>0</td>\n",
       "      <td>427500.0</td>\n",
       "      <td>Working</td>\n",
       "      <td>Higher education</td>\n",
       "      <td>Civil marriage</td>\n",
       "      <td>Rented apartment</td>\n",
       "      <td>...</td>\n",
       "      <td>1</td>\n",
       "      <td>1</td>\n",
       "      <td>0</td>\n",
       "      <td>0</td>\n",
       "      <td>NaN</td>\n",
       "      <td>2.0</td>\n",
       "      <td>-15.0</td>\n",
       "      <td>-3</td>\n",
       "      <td>C</td>\n",
       "      <td>no</td>\n",
       "    </tr>\n",
       "    <tr>\n",
       "      <th>4</th>\n",
       "      <td>5008804</td>\n",
       "      <td>M</td>\n",
       "      <td>Y</td>\n",
       "      <td>Y</td>\n",
       "      <td>0</td>\n",
       "      <td>427500.0</td>\n",
       "      <td>Working</td>\n",
       "      <td>Higher education</td>\n",
       "      <td>Civil marriage</td>\n",
       "      <td>Rented apartment</td>\n",
       "      <td>...</td>\n",
       "      <td>1</td>\n",
       "      <td>1</td>\n",
       "      <td>0</td>\n",
       "      <td>0</td>\n",
       "      <td>NaN</td>\n",
       "      <td>2.0</td>\n",
       "      <td>-15.0</td>\n",
       "      <td>-4</td>\n",
       "      <td>C</td>\n",
       "      <td>no</td>\n",
       "    </tr>\n",
       "  </tbody>\n",
       "</table>\n",
       "<p>5 rows × 22 columns</p>\n",
       "</div>"
      ],
      "text/plain": [
       "        ID CODE_GENDER FLAG_OWN_CAR FLAG_OWN_REALTY  CNT_CHILDREN  \\\n",
       "0  5008804           M            Y               Y             0   \n",
       "1  5008804           M            Y               Y             0   \n",
       "2  5008804           M            Y               Y             0   \n",
       "3  5008804           M            Y               Y             0   \n",
       "4  5008804           M            Y               Y             0   \n",
       "\n",
       "   AMT_INCOME_TOTAL NAME_INCOME_TYPE NAME_EDUCATION_TYPE NAME_FAMILY_STATUS  \\\n",
       "0          427500.0          Working    Higher education     Civil marriage   \n",
       "1          427500.0          Working    Higher education     Civil marriage   \n",
       "2          427500.0          Working    Higher education     Civil marriage   \n",
       "3          427500.0          Working    Higher education     Civil marriage   \n",
       "4          427500.0          Working    Higher education     Civil marriage   \n",
       "\n",
       "  NAME_HOUSING_TYPE  ...  FLAG_MOBIL  FLAG_WORK_PHONE  FLAG_PHONE  FLAG_EMAIL  \\\n",
       "0  Rented apartment  ...           1                1           0           0   \n",
       "1  Rented apartment  ...           1                1           0           0   \n",
       "2  Rented apartment  ...           1                1           0           0   \n",
       "3  Rented apartment  ...           1                1           0           0   \n",
       "4  Rented apartment  ...           1                1           0           0   \n",
       "\n",
       "   OCCUPATION_TYPE  CNT_FAM_MEMBERS start_month  MONTHS_BALANCE  STATUS  \\\n",
       "0              NaN              2.0       -15.0               0       C   \n",
       "1              NaN              2.0       -15.0              -1       C   \n",
       "2              NaN              2.0       -15.0              -2       C   \n",
       "3              NaN              2.0       -15.0              -3       C   \n",
       "4              NaN              2.0       -15.0              -4       C   \n",
       "\n",
       "   debt_class  \n",
       "0          no  \n",
       "1          no  \n",
       "2          no  \n",
       "3          no  \n",
       "4          no  \n",
       "\n",
       "[5 rows x 22 columns]"
      ]
     },
     "execution_count": 18,
     "metadata": {},
     "output_type": "execute_result"
    }
   ],
   "source": [
    "credit_record_values = credit_record[['debt_class']]\n",
    "new_df2 = pd.merge(new_df, credit_record, how = 'inner', on = 'ID')\n",
    "new_df2.head()"
   ]
  },
  {
   "cell_type": "code",
   "execution_count": 19,
   "metadata": {},
   "outputs": [
    {
     "name": "stdout",
     "output_type": "stream",
     "text": [
      "no     1045471\n",
      "yes       3104\n",
      "Name: debt_class, dtype: int64\n"
     ]
    },
    {
     "data": {
      "text/plain": [
       "no     0.99704\n",
       "yes    0.00296\n",
       "Name: debt_class, dtype: float64"
      ]
     },
     "execution_count": 19,
     "metadata": {},
     "output_type": "execute_result"
    }
   ],
   "source": [
    "new_df2['target'] = new_df2['debt_class']\n",
    "new_df2.loc[new_df2['target'] == 'yes','target'] = 1\n",
    "new_df2.loc[new_df2['target'] == 'no','target'] = 0\n",
    "print(credit_record['debt_class'].value_counts())\n",
    "credit_record['debt_class'].value_counts(normalize=True)"
   ]
  },
  {
   "cell_type": "markdown",
   "metadata": {},
   "source": [
    "## Weight of Evidence and Information Value"
   ]
  },
  {
   "cell_type": "markdown",
   "metadata": {},
   "source": [
    "The weight of evidence tells the predictive power of a single feature concerning its independent feature. If any of the categories/bins of a feature has a large proportion of events compared to the proportion of non-events, we will get a high value of WoE which in turn says that that class of the feature separates the events from non-events. [source](https://www.analyticsvidhya.com/blog/2021/06/understand-weight-of-evidence-and-information-value/)"
   ]
  },
  {
   "cell_type": "markdown",
   "metadata": {},
   "source": [
    "Using `calc_iv` function defined [here](https://www.kaggle.com/puremath86/iv-woe-starter-for-python) to calculate Information Value and Weight of evidence Value. The weight of evidence tells us the predictive power of an independent variable in relation to the dependent variable. \n"
   ]
  },
  {
   "cell_type": "markdown",
   "metadata": {},
   "source": [
    "Rename columns to be more readable "
   ]
  },
  {
   "cell_type": "code",
   "execution_count": 20,
   "metadata": {},
   "outputs": [],
   "source": [
    "new_df2.rename(columns = {\n",
    "    'CODE_GENDER':'gender',\n",
    "    'FLAG_OWN_CAR':'car',\n",
    "    'FLAG_OWN_REALTY':'property',\n",
    "    'CNT_CHILDREN':'children',\n",
    "    'AMT_INCOME_TOTAL':'income',\n",
    "    'NAME_EDUCATION_TYPE':'education',\n",
    "    'NAME_FAMILY_STATUS':'marital_status',\n",
    "    'NAME_HOUSING_TYPE':'housing',\n",
    "    'FLAG_EMAIL':'email',\n",
    "    'NAME_INCOME_TYPE':'income_category',\n",
    "    'FLAG_WORK_PHONE':'work_phone',\n",
    "    'FLAG_PHONE':'phone',\n",
    "    'CNT_FAM_MEMBERS':'family_size',\n",
    "    'OCCUPATION_TYPE':'occupation'\n",
    "    },inplace=True)\n"
   ]
  },
  {
   "cell_type": "code",
   "execution_count": 23,
   "metadata": {},
   "outputs": [],
   "source": [
    "#Check for missing value\n",
    "# plt_missing_3 = msno.matrix(new_df2)\n",
    "# plt_missing_3.set_title(\"Missing Data\",fontsize=22)\n"
   ]
  },
  {
   "cell_type": "code",
   "execution_count": 24,
   "metadata": {},
   "outputs": [
    {
     "data": {
      "text/html": [
       "<div>\n",
       "<style scoped>\n",
       "    .dataframe tbody tr th:only-of-type {\n",
       "        vertical-align: middle;\n",
       "    }\n",
       "\n",
       "    .dataframe tbody tr th {\n",
       "        vertical-align: top;\n",
       "    }\n",
       "\n",
       "    .dataframe thead th {\n",
       "        text-align: right;\n",
       "    }\n",
       "</style>\n",
       "<table border=\"1\" class=\"dataframe\">\n",
       "  <thead>\n",
       "    <tr style=\"text-align: right;\">\n",
       "      <th></th>\n",
       "      <th>ID</th>\n",
       "      <th>gender</th>\n",
       "      <th>car</th>\n",
       "      <th>property</th>\n",
       "      <th>children</th>\n",
       "      <th>income</th>\n",
       "      <th>income_category</th>\n",
       "      <th>education</th>\n",
       "      <th>marital_status</th>\n",
       "      <th>housing</th>\n",
       "      <th>...</th>\n",
       "      <th>work_phone</th>\n",
       "      <th>phone</th>\n",
       "      <th>email</th>\n",
       "      <th>occupation</th>\n",
       "      <th>family_size</th>\n",
       "      <th>start_month</th>\n",
       "      <th>MONTHS_BALANCE</th>\n",
       "      <th>STATUS</th>\n",
       "      <th>debt_class</th>\n",
       "      <th>target</th>\n",
       "    </tr>\n",
       "  </thead>\n",
       "  <tbody>\n",
       "    <tr>\n",
       "      <th>0</th>\n",
       "      <td>5008804</td>\n",
       "      <td>M</td>\n",
       "      <td>Y</td>\n",
       "      <td>Y</td>\n",
       "      <td>0</td>\n",
       "      <td>427500.0</td>\n",
       "      <td>Working</td>\n",
       "      <td>Higher education</td>\n",
       "      <td>Civil marriage</td>\n",
       "      <td>Rented apartment</td>\n",
       "      <td>...</td>\n",
       "      <td>1</td>\n",
       "      <td>0</td>\n",
       "      <td>0</td>\n",
       "      <td>unspecified</td>\n",
       "      <td>2.0</td>\n",
       "      <td>-15.0</td>\n",
       "      <td>0</td>\n",
       "      <td>C</td>\n",
       "      <td>no</td>\n",
       "      <td>0</td>\n",
       "    </tr>\n",
       "    <tr>\n",
       "      <th>1</th>\n",
       "      <td>5008804</td>\n",
       "      <td>M</td>\n",
       "      <td>Y</td>\n",
       "      <td>Y</td>\n",
       "      <td>0</td>\n",
       "      <td>427500.0</td>\n",
       "      <td>Working</td>\n",
       "      <td>Higher education</td>\n",
       "      <td>Civil marriage</td>\n",
       "      <td>Rented apartment</td>\n",
       "      <td>...</td>\n",
       "      <td>1</td>\n",
       "      <td>0</td>\n",
       "      <td>0</td>\n",
       "      <td>unspecified</td>\n",
       "      <td>2.0</td>\n",
       "      <td>-15.0</td>\n",
       "      <td>-1</td>\n",
       "      <td>C</td>\n",
       "      <td>no</td>\n",
       "      <td>0</td>\n",
       "    </tr>\n",
       "    <tr>\n",
       "      <th>2</th>\n",
       "      <td>5008804</td>\n",
       "      <td>M</td>\n",
       "      <td>Y</td>\n",
       "      <td>Y</td>\n",
       "      <td>0</td>\n",
       "      <td>427500.0</td>\n",
       "      <td>Working</td>\n",
       "      <td>Higher education</td>\n",
       "      <td>Civil marriage</td>\n",
       "      <td>Rented apartment</td>\n",
       "      <td>...</td>\n",
       "      <td>1</td>\n",
       "      <td>0</td>\n",
       "      <td>0</td>\n",
       "      <td>unspecified</td>\n",
       "      <td>2.0</td>\n",
       "      <td>-15.0</td>\n",
       "      <td>-2</td>\n",
       "      <td>C</td>\n",
       "      <td>no</td>\n",
       "      <td>0</td>\n",
       "    </tr>\n",
       "    <tr>\n",
       "      <th>3</th>\n",
       "      <td>5008804</td>\n",
       "      <td>M</td>\n",
       "      <td>Y</td>\n",
       "      <td>Y</td>\n",
       "      <td>0</td>\n",
       "      <td>427500.0</td>\n",
       "      <td>Working</td>\n",
       "      <td>Higher education</td>\n",
       "      <td>Civil marriage</td>\n",
       "      <td>Rented apartment</td>\n",
       "      <td>...</td>\n",
       "      <td>1</td>\n",
       "      <td>0</td>\n",
       "      <td>0</td>\n",
       "      <td>unspecified</td>\n",
       "      <td>2.0</td>\n",
       "      <td>-15.0</td>\n",
       "      <td>-3</td>\n",
       "      <td>C</td>\n",
       "      <td>no</td>\n",
       "      <td>0</td>\n",
       "    </tr>\n",
       "    <tr>\n",
       "      <th>4</th>\n",
       "      <td>5008804</td>\n",
       "      <td>M</td>\n",
       "      <td>Y</td>\n",
       "      <td>Y</td>\n",
       "      <td>0</td>\n",
       "      <td>427500.0</td>\n",
       "      <td>Working</td>\n",
       "      <td>Higher education</td>\n",
       "      <td>Civil marriage</td>\n",
       "      <td>Rented apartment</td>\n",
       "      <td>...</td>\n",
       "      <td>1</td>\n",
       "      <td>0</td>\n",
       "      <td>0</td>\n",
       "      <td>unspecified</td>\n",
       "      <td>2.0</td>\n",
       "      <td>-15.0</td>\n",
       "      <td>-4</td>\n",
       "      <td>C</td>\n",
       "      <td>no</td>\n",
       "      <td>0</td>\n",
       "    </tr>\n",
       "  </tbody>\n",
       "</table>\n",
       "<p>5 rows × 23 columns</p>\n",
       "</div>"
      ],
      "text/plain": [
       "        ID gender car property  children    income income_category  \\\n",
       "0  5008804      M   Y        Y         0  427500.0         Working   \n",
       "1  5008804      M   Y        Y         0  427500.0         Working   \n",
       "2  5008804      M   Y        Y         0  427500.0         Working   \n",
       "3  5008804      M   Y        Y         0  427500.0         Working   \n",
       "4  5008804      M   Y        Y         0  427500.0         Working   \n",
       "\n",
       "          education  marital_status           housing  ...  work_phone  phone  \\\n",
       "0  Higher education  Civil marriage  Rented apartment  ...           1      0   \n",
       "1  Higher education  Civil marriage  Rented apartment  ...           1      0   \n",
       "2  Higher education  Civil marriage  Rented apartment  ...           1      0   \n",
       "3  Higher education  Civil marriage  Rented apartment  ...           1      0   \n",
       "4  Higher education  Civil marriage  Rented apartment  ...           1      0   \n",
       "\n",
       "   email   occupation  family_size  start_month MONTHS_BALANCE  STATUS  \\\n",
       "0      0  unspecified          2.0        -15.0              0       C   \n",
       "1      0  unspecified          2.0        -15.0             -1       C   \n",
       "2      0  unspecified          2.0        -15.0             -2       C   \n",
       "3      0  unspecified          2.0        -15.0             -3       C   \n",
       "4      0  unspecified          2.0        -15.0             -4       C   \n",
       "\n",
       "   debt_class  target  \n",
       "0          no       0  \n",
       "1          no       0  \n",
       "2          no       0  \n",
       "3          no       0  \n",
       "4          no       0  \n",
       "\n",
       "[5 rows x 23 columns]"
      ]
     },
     "execution_count": 24,
     "metadata": {},
     "output_type": "execute_result"
    }
   ],
   "source": [
    "# replace missing values in occupation to 'unspecified'\n",
    "new_df2['occupation'].fillna('unspecified', inplace=True)\n",
    "new_df2.isna().any().any()\n",
    "new_df2.head()"
   ]
  },
  {
   "cell_type": "code",
   "execution_count": 25,
   "metadata": {},
   "outputs": [],
   "source": [
    "iv_data=pd.DataFrame(new_df2.columns,columns=['variable'])\n",
    "iv_data['IV']=None\n",
    "name_list = ['FLAG_MOBIL','start_month','debt_class','target','ID']\n",
    "for i in name_list:\n",
    "    iv_data.drop(iv_data[iv_data['variable'] == i].index, inplace=True)"
   ]
  },
  {
   "cell_type": "code",
   "execution_count": 26,
   "metadata": {
    "tags": []
   },
   "outputs": [],
   "source": [
    "# Calculate information value\n",
    "def calc_iv(df, feature, target, pr=False):\n",
    "    \"\"\"\n",
    "    calc_iv calculates the information value.\n",
    "    \n",
    "    Params:\n",
    "    df: A Dataframe\n",
    "    feature: The independent variable\n",
    "    target: the dependent variable\n",
    "    \n",
    "    return: \n",
    "    iv: The information value\n",
    "    data: a dataframe with information with more information on WoE and IV of the variable \n",
    "    \n",
    "    \"\"\"\n",
    "    lst = []\n",
    "    df[feature] = df[feature].fillna(\"NULL\")\n",
    "\n",
    "    for i in range(df[feature].nunique()):\n",
    "        val = list(df[feature].unique())[i]\n",
    "        lst.append([feature,                                                        # Variable\n",
    "                    val,                                                            # Value\n",
    "                    df[df[feature] == val].count()[feature],                        # All\n",
    "                    df[(df[feature] == val) & (df[target] == 0)].count()[feature],  # Good (think: Fraud == 0)\n",
    "                    df[(df[feature] == val) & (df[target] == 1)].count()[feature]]) # Bad (think: Fraud == 1)\n",
    "\n",
    "    data = pd.DataFrame(lst, columns=['Variable', 'Value', 'All', 'Good', 'Bad'])\n",
    "    data['Share'] = data['All'] / data['All'].sum()\n",
    "    data['Bad Rate'] = data['Bad'] / data['All']\n",
    "    data['Distribution Good'] = (data['All'] - data['Bad']) / (data['All'].sum() - data['Bad'].sum())\n",
    "    data['Distribution Bad'] = data['Bad'] / data['Bad'].sum()\n",
    "    data['WoE'] = np.log(data['Distribution Good'] / data['Distribution Bad'])\n",
    "    \n",
    "    data = data.replace({'WoE': {np.inf: 0, -np.inf: 0}})\n",
    "\n",
    "    data['IV'] = data['WoE'] * (data['Distribution Good'] - data['Distribution Bad'])\n",
    "\n",
    "    data = data.sort_values(by=['Variable', 'Value'], ascending=[True, True])\n",
    "    data.index = range(len(data.index))\n",
    "\n",
    "    if pr:\n",
    "        print(data)\n",
    "        print('IV = ', data['IV'].sum())\n",
    "\n",
    "    iv = data['IV'].sum()\n",
    "    print('This variable\\'s IV is:',iv)\n",
    "    print(df[feature].value_counts())\n",
    "    return iv, data"
   ]
  },
  {
   "cell_type": "code",
   "execution_count": 27,
   "metadata": {
    "tags": []
   },
   "outputs": [],
   "source": [
    "def convert_dummy(df, feature, rank=0):\n",
    "    \"\"\"\n",
    "    convert_dummy converts a categorical variable in a dataframe to dummy variables.\n",
    "    \n",
    "    Params:\n",
    "    df: A Dataframe\n",
    "    feature: The variable to convert\n",
    "    \n",
    "    return: \n",
    "    df: a dataframe with dummy variable    \n",
    "    \"\"\"\n",
    "    pos = pd.get_dummies(df[feature], prefix=feature)\n",
    "    mode = df[feature].value_counts().index[rank]\n",
    "    biggest = feature + '_' + str(mode)\n",
    "    pos.drop([biggest],axis=1,inplace=True)\n",
    "    df.drop([feature],axis=1,inplace=True)\n",
    "    df=df.join(pos)\n",
    "    return df"
   ]
  },
  {
   "cell_type": "code",
   "execution_count": 28,
   "metadata": {
    "tags": []
   },
   "outputs": [],
   "source": [
    "def get_category(df, col, binsnum, labels, qcut = False):\n",
    "    if qcut:\n",
    "        localdf = pd.qcut(df[col], q = binsnum, labels = labels) # quantile cut\n",
    "    else:\n",
    "        localdf = pd.cut(df[col], bins = binsnum, labels = labels) # equal-length cut\n",
    "        \n",
    "    localdf = pd.DataFrame(localdf)\n",
    "    name = 'gp' + '_' + col\n",
    "    localdf[name] = localdf[col]\n",
    "    df = df.join(localdf[name])\n",
    "    df[name] = df[name].astype(object)\n",
    "    return df"
   ]
  },
  {
   "cell_type": "code",
   "execution_count": 29,
   "metadata": {
    "tags": []
   },
   "outputs": [],
   "source": [
    "def plot_confusion_matrix(cm, classes,\n",
    "                          normalize=False,\n",
    "                          title='Confusion matrix',\n",
    "                          cmap=plt.cm.Blues):\n",
    "    if normalize:\n",
    "        cm = cm.astype('float') / cm.sum(axis=1)[:, np.newaxis]\n",
    "        \n",
    "    print(cm)\n",
    "\n",
    "    plt.imshow(cm, interpolation='nearest', cmap=cmap)\n",
    "    plt.title(title)\n",
    "    plt.colorbar()\n",
    "    tick_marks = np.arange(len(classes))\n",
    "    plt.xticks(tick_marks, classes)\n",
    "    plt.yticks(tick_marks, classes)\n",
    "\n",
    "    fmt = '.2f' if normalize else 'd'\n",
    "    thresh = cm.max() / 2.\n",
    "    for i, j in itertools.product(range(cm.shape[0]), range(cm.shape[1])):\n",
    "        plt.text(j, i, format(cm[i, j], fmt),\n",
    "                 horizontalalignment=\"center\",\n",
    "                 color=\"white\" if cm[i, j] > thresh else \"black\")\n",
    "\n",
    "    plt.tight_layout()\n",
    "    plt.ylabel('True label')\n",
    "    plt.xlabel('Predicted label')"
   ]
  },
  {
   "cell_type": "markdown",
   "metadata": {},
   "source": [
    "### Calculate IV for selected variables"
   ]
  },
  {
   "cell_type": "code",
   "execution_count": 30,
   "metadata": {},
   "outputs": [
    {
     "data": {
      "text/html": [
       "<div>\n",
       "<style scoped>\n",
       "    .dataframe tbody tr th:only-of-type {\n",
       "        vertical-align: middle;\n",
       "    }\n",
       "\n",
       "    .dataframe tbody tr th {\n",
       "        vertical-align: top;\n",
       "    }\n",
       "\n",
       "    .dataframe thead th {\n",
       "        text-align: right;\n",
       "    }\n",
       "</style>\n",
       "<table border=\"1\" class=\"dataframe\">\n",
       "  <thead>\n",
       "    <tr style=\"text-align: right;\">\n",
       "      <th></th>\n",
       "      <th>ID</th>\n",
       "      <th>gender</th>\n",
       "      <th>car</th>\n",
       "      <th>property</th>\n",
       "      <th>children</th>\n",
       "      <th>income</th>\n",
       "      <th>income_category</th>\n",
       "      <th>education</th>\n",
       "      <th>marital_status</th>\n",
       "      <th>housing</th>\n",
       "      <th>...</th>\n",
       "      <th>work_phone</th>\n",
       "      <th>phone</th>\n",
       "      <th>email</th>\n",
       "      <th>occupation</th>\n",
       "      <th>family_size</th>\n",
       "      <th>start_month</th>\n",
       "      <th>MONTHS_BALANCE</th>\n",
       "      <th>STATUS</th>\n",
       "      <th>debt_class</th>\n",
       "      <th>target</th>\n",
       "    </tr>\n",
       "  </thead>\n",
       "  <tbody>\n",
       "    <tr>\n",
       "      <th>0</th>\n",
       "      <td>5008804</td>\n",
       "      <td>M</td>\n",
       "      <td>Y</td>\n",
       "      <td>Y</td>\n",
       "      <td>0</td>\n",
       "      <td>427500.0</td>\n",
       "      <td>Working</td>\n",
       "      <td>Higher education</td>\n",
       "      <td>Civil marriage</td>\n",
       "      <td>Rented apartment</td>\n",
       "      <td>...</td>\n",
       "      <td>1</td>\n",
       "      <td>0</td>\n",
       "      <td>0</td>\n",
       "      <td>unspecified</td>\n",
       "      <td>2.0</td>\n",
       "      <td>-15.0</td>\n",
       "      <td>0</td>\n",
       "      <td>C</td>\n",
       "      <td>no</td>\n",
       "      <td>0</td>\n",
       "    </tr>\n",
       "    <tr>\n",
       "      <th>1</th>\n",
       "      <td>5008804</td>\n",
       "      <td>M</td>\n",
       "      <td>Y</td>\n",
       "      <td>Y</td>\n",
       "      <td>0</td>\n",
       "      <td>427500.0</td>\n",
       "      <td>Working</td>\n",
       "      <td>Higher education</td>\n",
       "      <td>Civil marriage</td>\n",
       "      <td>Rented apartment</td>\n",
       "      <td>...</td>\n",
       "      <td>1</td>\n",
       "      <td>0</td>\n",
       "      <td>0</td>\n",
       "      <td>unspecified</td>\n",
       "      <td>2.0</td>\n",
       "      <td>-15.0</td>\n",
       "      <td>-1</td>\n",
       "      <td>C</td>\n",
       "      <td>no</td>\n",
       "      <td>0</td>\n",
       "    </tr>\n",
       "    <tr>\n",
       "      <th>2</th>\n",
       "      <td>5008804</td>\n",
       "      <td>M</td>\n",
       "      <td>Y</td>\n",
       "      <td>Y</td>\n",
       "      <td>0</td>\n",
       "      <td>427500.0</td>\n",
       "      <td>Working</td>\n",
       "      <td>Higher education</td>\n",
       "      <td>Civil marriage</td>\n",
       "      <td>Rented apartment</td>\n",
       "      <td>...</td>\n",
       "      <td>1</td>\n",
       "      <td>0</td>\n",
       "      <td>0</td>\n",
       "      <td>unspecified</td>\n",
       "      <td>2.0</td>\n",
       "      <td>-15.0</td>\n",
       "      <td>-2</td>\n",
       "      <td>C</td>\n",
       "      <td>no</td>\n",
       "      <td>0</td>\n",
       "    </tr>\n",
       "    <tr>\n",
       "      <th>3</th>\n",
       "      <td>5008804</td>\n",
       "      <td>M</td>\n",
       "      <td>Y</td>\n",
       "      <td>Y</td>\n",
       "      <td>0</td>\n",
       "      <td>427500.0</td>\n",
       "      <td>Working</td>\n",
       "      <td>Higher education</td>\n",
       "      <td>Civil marriage</td>\n",
       "      <td>Rented apartment</td>\n",
       "      <td>...</td>\n",
       "      <td>1</td>\n",
       "      <td>0</td>\n",
       "      <td>0</td>\n",
       "      <td>unspecified</td>\n",
       "      <td>2.0</td>\n",
       "      <td>-15.0</td>\n",
       "      <td>-3</td>\n",
       "      <td>C</td>\n",
       "      <td>no</td>\n",
       "      <td>0</td>\n",
       "    </tr>\n",
       "    <tr>\n",
       "      <th>4</th>\n",
       "      <td>5008804</td>\n",
       "      <td>M</td>\n",
       "      <td>Y</td>\n",
       "      <td>Y</td>\n",
       "      <td>0</td>\n",
       "      <td>427500.0</td>\n",
       "      <td>Working</td>\n",
       "      <td>Higher education</td>\n",
       "      <td>Civil marriage</td>\n",
       "      <td>Rented apartment</td>\n",
       "      <td>...</td>\n",
       "      <td>1</td>\n",
       "      <td>0</td>\n",
       "      <td>0</td>\n",
       "      <td>unspecified</td>\n",
       "      <td>2.0</td>\n",
       "      <td>-15.0</td>\n",
       "      <td>-4</td>\n",
       "      <td>C</td>\n",
       "      <td>no</td>\n",
       "      <td>0</td>\n",
       "    </tr>\n",
       "  </tbody>\n",
       "</table>\n",
       "<p>5 rows × 23 columns</p>\n",
       "</div>"
      ],
      "text/plain": [
       "        ID gender car property  children    income income_category  \\\n",
       "0  5008804      M   Y        Y         0  427500.0         Working   \n",
       "1  5008804      M   Y        Y         0  427500.0         Working   \n",
       "2  5008804      M   Y        Y         0  427500.0         Working   \n",
       "3  5008804      M   Y        Y         0  427500.0         Working   \n",
       "4  5008804      M   Y        Y         0  427500.0         Working   \n",
       "\n",
       "          education  marital_status           housing  ...  work_phone  phone  \\\n",
       "0  Higher education  Civil marriage  Rented apartment  ...           1      0   \n",
       "1  Higher education  Civil marriage  Rented apartment  ...           1      0   \n",
       "2  Higher education  Civil marriage  Rented apartment  ...           1      0   \n",
       "3  Higher education  Civil marriage  Rented apartment  ...           1      0   \n",
       "4  Higher education  Civil marriage  Rented apartment  ...           1      0   \n",
       "\n",
       "   email   occupation  family_size  start_month MONTHS_BALANCE  STATUS  \\\n",
       "0      0  unspecified          2.0        -15.0              0       C   \n",
       "1      0  unspecified          2.0        -15.0             -1       C   \n",
       "2      0  unspecified          2.0        -15.0             -2       C   \n",
       "3      0  unspecified          2.0        -15.0             -3       C   \n",
       "4      0  unspecified          2.0        -15.0             -4       C   \n",
       "\n",
       "   debt_class  target  \n",
       "0          no       0  \n",
       "1          no       0  \n",
       "2          no       0  \n",
       "3          no       0  \n",
       "4          no       0  \n",
       "\n",
       "[5 rows x 23 columns]"
      ]
     },
     "execution_count": 30,
     "metadata": {},
     "output_type": "execute_result"
    }
   ],
   "source": [
    "new_df2.head()\n"
   ]
  },
  {
   "cell_type": "code",
   "execution_count": 32,
   "metadata": {},
   "outputs": [],
   "source": [
    "# new_df2['target'].value_counts()\n",
    "# fig, ax = plt.subplots(figsize=(10, 10))\n",
    "# sns.heatmap(new_df2.corr())\n"
   ]
  },
  {
   "cell_type": "markdown",
   "metadata": {},
   "source": [
    "#### Gender"
   ]
  },
  {
   "cell_type": "code",
   "execution_count": 33,
   "metadata": {},
   "outputs": [
    {
     "name": "stdout",
     "output_type": "stream",
     "text": [
      "This variable's IV is: 0.03679191095260092\n",
      "0    518851\n",
      "1    258864\n",
      "Name: gender, dtype: int64\n"
     ]
    },
    {
     "data": {
      "text/html": [
       "<div>\n",
       "<style scoped>\n",
       "    .dataframe tbody tr th:only-of-type {\n",
       "        vertical-align: middle;\n",
       "    }\n",
       "\n",
       "    .dataframe tbody tr th {\n",
       "        vertical-align: top;\n",
       "    }\n",
       "\n",
       "    .dataframe thead th {\n",
       "        text-align: right;\n",
       "    }\n",
       "</style>\n",
       "<table border=\"1\" class=\"dataframe\">\n",
       "  <thead>\n",
       "    <tr style=\"text-align: right;\">\n",
       "      <th></th>\n",
       "      <th>Variable</th>\n",
       "      <th>Value</th>\n",
       "      <th>All</th>\n",
       "      <th>Good</th>\n",
       "      <th>Bad</th>\n",
       "      <th>Share</th>\n",
       "      <th>Bad Rate</th>\n",
       "      <th>Distribution Good</th>\n",
       "      <th>Distribution Bad</th>\n",
       "      <th>WoE</th>\n",
       "      <th>IV</th>\n",
       "    </tr>\n",
       "  </thead>\n",
       "  <tbody>\n",
       "    <tr>\n",
       "      <th>0</th>\n",
       "      <td>gender</td>\n",
       "      <td>0</td>\n",
       "      <td>518851</td>\n",
       "      <td>517226</td>\n",
       "      <td>1625</td>\n",
       "      <td>0.667148</td>\n",
       "      <td>0.003132</td>\n",
       "      <td>0.667486</td>\n",
       "      <td>0.574611</td>\n",
       "      <td>0.149825</td>\n",
       "      <td>0.013915</td>\n",
       "    </tr>\n",
       "    <tr>\n",
       "      <th>1</th>\n",
       "      <td>gender</td>\n",
       "      <td>1</td>\n",
       "      <td>258864</td>\n",
       "      <td>257661</td>\n",
       "      <td>1203</td>\n",
       "      <td>0.332852</td>\n",
       "      <td>0.004647</td>\n",
       "      <td>0.332514</td>\n",
       "      <td>0.425389</td>\n",
       "      <td>-0.246321</td>\n",
       "      <td>0.022877</td>\n",
       "    </tr>\n",
       "  </tbody>\n",
       "</table>\n",
       "</div>"
      ],
      "text/plain": [
       "  Variable  Value     All    Good   Bad     Share  Bad Rate  \\\n",
       "0   gender      0  518851  517226  1625  0.667148  0.003132   \n",
       "1   gender      1  258864  257661  1203  0.332852  0.004647   \n",
       "\n",
       "   Distribution Good  Distribution Bad       WoE        IV  \n",
       "0           0.667486          0.574611  0.149825  0.013915  \n",
       "1           0.332514          0.425389 -0.246321  0.022877  "
      ]
     },
     "execution_count": 33,
     "metadata": {},
     "output_type": "execute_result"
    }
   ],
   "source": [
    "new_df2['gender'] = new_df2['gender'].replace(['F','M'],[0,1])\n",
    "iv, data = calc_iv(new_df2,'gender','target')\n",
    "iv_data.loc[iv_data['variable'] == 'gender','IV'] = iv\n",
    "data.head()"
   ]
  },
  {
   "cell_type": "markdown",
   "metadata": {},
   "source": [
    "#### Car ownership status"
   ]
  },
  {
   "cell_type": "code",
   "execution_count": 34,
   "metadata": {
    "tags": []
   },
   "outputs": [
    {
     "name": "stdout",
     "output_type": "stream",
     "text": [
      "This variable's IV is: 0.0002381548065452438\n",
      "0    473355\n",
      "1    304360\n",
      "Name: car, dtype: int64\n"
     ]
    },
    {
     "data": {
      "text/html": [
       "<div>\n",
       "<style scoped>\n",
       "    .dataframe tbody tr th:only-of-type {\n",
       "        vertical-align: middle;\n",
       "    }\n",
       "\n",
       "    .dataframe tbody tr th {\n",
       "        vertical-align: top;\n",
       "    }\n",
       "\n",
       "    .dataframe thead th {\n",
       "        text-align: right;\n",
       "    }\n",
       "</style>\n",
       "<table border=\"1\" class=\"dataframe\">\n",
       "  <thead>\n",
       "    <tr style=\"text-align: right;\">\n",
       "      <th></th>\n",
       "      <th>Variable</th>\n",
       "      <th>Value</th>\n",
       "      <th>All</th>\n",
       "      <th>Good</th>\n",
       "      <th>Bad</th>\n",
       "      <th>Share</th>\n",
       "      <th>Bad Rate</th>\n",
       "      <th>Distribution Good</th>\n",
       "      <th>Distribution Bad</th>\n",
       "      <th>WoE</th>\n",
       "      <th>IV</th>\n",
       "    </tr>\n",
       "  </thead>\n",
       "  <tbody>\n",
       "    <tr>\n",
       "      <th>0</th>\n",
       "      <td>car</td>\n",
       "      <td>0</td>\n",
       "      <td>473355</td>\n",
       "      <td>471655</td>\n",
       "      <td>1700</td>\n",
       "      <td>0.608648</td>\n",
       "      <td>0.003591</td>\n",
       "      <td>0.608676</td>\n",
       "      <td>0.601132</td>\n",
       "      <td>0.012472</td>\n",
       "      <td>0.000094</td>\n",
       "    </tr>\n",
       "    <tr>\n",
       "      <th>1</th>\n",
       "      <td>car</td>\n",
       "      <td>1</td>\n",
       "      <td>304360</td>\n",
       "      <td>303232</td>\n",
       "      <td>1128</td>\n",
       "      <td>0.391352</td>\n",
       "      <td>0.003706</td>\n",
       "      <td>0.391324</td>\n",
       "      <td>0.398868</td>\n",
       "      <td>-0.019095</td>\n",
       "      <td>0.000144</td>\n",
       "    </tr>\n",
       "  </tbody>\n",
       "</table>\n",
       "</div>"
      ],
      "text/plain": [
       "  Variable  Value     All    Good   Bad     Share  Bad Rate  \\\n",
       "0      car      0  473355  471655  1700  0.608648  0.003591   \n",
       "1      car      1  304360  303232  1128  0.391352  0.003706   \n",
       "\n",
       "   Distribution Good  Distribution Bad       WoE        IV  \n",
       "0           0.608676          0.601132  0.012472  0.000094  \n",
       "1           0.391324          0.398868 -0.019095  0.000144  "
      ]
     },
     "execution_count": 34,
     "metadata": {},
     "output_type": "execute_result"
    }
   ],
   "source": [
    "new_df2['car'] = new_df2['car'].replace(['N','Y'], [0,1])\n",
    "iv, data = calc_iv(new_df2,'car','target')\n",
    "iv_data.loc[iv_data['variable'] =='car','IV'] = iv\n",
    "data.head()"
   ]
  },
  {
   "cell_type": "markdown",
   "metadata": {},
   "source": [
    "#### Property ownership status"
   ]
  },
  {
   "cell_type": "code",
   "execution_count": 35,
   "metadata": {
    "tags": []
   },
   "outputs": [
    {
     "name": "stdout",
     "output_type": "stream",
     "text": [
      "This variable's IV is: 0.00041314523412768107\n",
      "1    512948\n",
      "0    264767\n",
      "Name: property, dtype: int64\n"
     ]
    },
    {
     "data": {
      "text/html": [
       "<div>\n",
       "<style scoped>\n",
       "    .dataframe tbody tr th:only-of-type {\n",
       "        vertical-align: middle;\n",
       "    }\n",
       "\n",
       "    .dataframe tbody tr th {\n",
       "        vertical-align: top;\n",
       "    }\n",
       "\n",
       "    .dataframe thead th {\n",
       "        text-align: right;\n",
       "    }\n",
       "</style>\n",
       "<table border=\"1\" class=\"dataframe\">\n",
       "  <thead>\n",
       "    <tr style=\"text-align: right;\">\n",
       "      <th></th>\n",
       "      <th>Variable</th>\n",
       "      <th>Value</th>\n",
       "      <th>All</th>\n",
       "      <th>Good</th>\n",
       "      <th>Bad</th>\n",
       "      <th>Share</th>\n",
       "      <th>Bad Rate</th>\n",
       "      <th>Distribution Good</th>\n",
       "      <th>Distribution Bad</th>\n",
       "      <th>WoE</th>\n",
       "      <th>IV</th>\n",
       "    </tr>\n",
       "  </thead>\n",
       "  <tbody>\n",
       "    <tr>\n",
       "      <th>0</th>\n",
       "      <td>property</td>\n",
       "      <td>0</td>\n",
       "      <td>264767</td>\n",
       "      <td>263777</td>\n",
       "      <td>990</td>\n",
       "      <td>0.340442</td>\n",
       "      <td>0.003739</td>\n",
       "      <td>0.340407</td>\n",
       "      <td>0.350071</td>\n",
       "      <td>-0.027993</td>\n",
       "      <td>0.000271</td>\n",
       "    </tr>\n",
       "    <tr>\n",
       "      <th>1</th>\n",
       "      <td>property</td>\n",
       "      <td>1</td>\n",
       "      <td>512948</td>\n",
       "      <td>511110</td>\n",
       "      <td>1838</td>\n",
       "      <td>0.659558</td>\n",
       "      <td>0.003583</td>\n",
       "      <td>0.659593</td>\n",
       "      <td>0.649929</td>\n",
       "      <td>0.014759</td>\n",
       "      <td>0.000143</td>\n",
       "    </tr>\n",
       "  </tbody>\n",
       "</table>\n",
       "</div>"
      ],
      "text/plain": [
       "   Variable  Value     All    Good   Bad     Share  Bad Rate  \\\n",
       "0  property      0  264767  263777   990  0.340442  0.003739   \n",
       "1  property      1  512948  511110  1838  0.659558  0.003583   \n",
       "\n",
       "   Distribution Good  Distribution Bad       WoE        IV  \n",
       "0           0.340407          0.350071 -0.027993  0.000271  \n",
       "1           0.659593          0.649929  0.014759  0.000143  "
      ]
     },
     "execution_count": 35,
     "metadata": {},
     "output_type": "execute_result"
    }
   ],
   "source": [
    "new_df2['property'] = new_df2['property'].replace(['N','Y'],[0,1])\n",
    "iv, data = calc_iv(new_df2,'property','target')\n",
    "iv_data.loc[iv_data['variable']=='property','IV'] = iv\n",
    "data.head()"
   ]
  },
  {
   "cell_type": "markdown",
   "metadata": {},
   "source": [
    "#### Phone ownership status"
   ]
  },
  {
   "cell_type": "code",
   "execution_count": 36,
   "metadata": {
    "tags": []
   },
   "outputs": [
    {
     "name": "stdout",
     "output_type": "stream",
     "text": [
      "This variable's IV is: 0.01372456561875916\n",
      "0    543650\n",
      "1    234065\n",
      "Name: phone, dtype: int64\n"
     ]
    },
    {
     "data": {
      "text/html": [
       "<div>\n",
       "<style scoped>\n",
       "    .dataframe tbody tr th:only-of-type {\n",
       "        vertical-align: middle;\n",
       "    }\n",
       "\n",
       "    .dataframe tbody tr th {\n",
       "        vertical-align: top;\n",
       "    }\n",
       "\n",
       "    .dataframe thead th {\n",
       "        text-align: right;\n",
       "    }\n",
       "</style>\n",
       "<table border=\"1\" class=\"dataframe\">\n",
       "  <thead>\n",
       "    <tr style=\"text-align: right;\">\n",
       "      <th></th>\n",
       "      <th>Variable</th>\n",
       "      <th>Value</th>\n",
       "      <th>All</th>\n",
       "      <th>Good</th>\n",
       "      <th>Bad</th>\n",
       "      <th>Share</th>\n",
       "      <th>Bad Rate</th>\n",
       "      <th>Distribution Good</th>\n",
       "      <th>Distribution Bad</th>\n",
       "      <th>WoE</th>\n",
       "      <th>IV</th>\n",
       "    </tr>\n",
       "  </thead>\n",
       "  <tbody>\n",
       "    <tr>\n",
       "      <th>0</th>\n",
       "      <td>phone</td>\n",
       "      <td>0</td>\n",
       "      <td>543650</td>\n",
       "      <td>541828</td>\n",
       "      <td>1822</td>\n",
       "      <td>0.699035</td>\n",
       "      <td>0.003351</td>\n",
       "      <td>0.699235</td>\n",
       "      <td>0.644272</td>\n",
       "      <td>0.081866</td>\n",
       "      <td>0.004500</td>\n",
       "    </tr>\n",
       "    <tr>\n",
       "      <th>1</th>\n",
       "      <td>phone</td>\n",
       "      <td>1</td>\n",
       "      <td>234065</td>\n",
       "      <td>233059</td>\n",
       "      <td>1006</td>\n",
       "      <td>0.300965</td>\n",
       "      <td>0.004298</td>\n",
       "      <td>0.300765</td>\n",
       "      <td>0.355728</td>\n",
       "      <td>-0.167838</td>\n",
       "      <td>0.009225</td>\n",
       "    </tr>\n",
       "  </tbody>\n",
       "</table>\n",
       "</div>"
      ],
      "text/plain": [
       "  Variable Value     All    Good   Bad     Share  Bad Rate  Distribution Good  \\\n",
       "0    phone     0  543650  541828  1822  0.699035  0.003351           0.699235   \n",
       "1    phone     1  234065  233059  1006  0.300965  0.004298           0.300765   \n",
       "\n",
       "   Distribution Bad       WoE        IV  \n",
       "0          0.644272  0.081866  0.004500  \n",
       "1          0.355728 -0.167838  0.009225  "
      ]
     },
     "execution_count": 36,
     "metadata": {},
     "output_type": "execute_result"
    }
   ],
   "source": [
    "new_df2['phone'] = new_df2['phone'].astype(str)\n",
    "new_df2.drop(new_df2[new_df2['phone'] == 'nan' ].index, inplace=True)\n",
    "iv, data = calc_iv(new_df2,'phone','target')\n",
    "iv_data.loc[iv_data['variable'] == 'phone', 'IV'] = iv\n",
    "data.head()"
   ]
  },
  {
   "cell_type": "markdown",
   "metadata": {},
   "source": [
    "#### Email"
   ]
  },
  {
   "cell_type": "code",
   "execution_count": 37,
   "metadata": {
    "tags": []
   },
   "outputs": [
    {
     "name": "stdout",
     "output_type": "stream",
     "text": [
      "0    0.908325\n",
      "1    0.091675\n",
      "Name: email, dtype: float64\n",
      "This variable's IV is: 0.0027804559765888253\n",
      "0    706418\n",
      "1     71297\n",
      "Name: email, dtype: int64\n"
     ]
    },
    {
     "data": {
      "text/html": [
       "<div>\n",
       "<style scoped>\n",
       "    .dataframe tbody tr th:only-of-type {\n",
       "        vertical-align: middle;\n",
       "    }\n",
       "\n",
       "    .dataframe tbody tr th {\n",
       "        vertical-align: top;\n",
       "    }\n",
       "\n",
       "    .dataframe thead th {\n",
       "        text-align: right;\n",
       "    }\n",
       "</style>\n",
       "<table border=\"1\" class=\"dataframe\">\n",
       "  <thead>\n",
       "    <tr style=\"text-align: right;\">\n",
       "      <th></th>\n",
       "      <th>Variable</th>\n",
       "      <th>Value</th>\n",
       "      <th>All</th>\n",
       "      <th>Good</th>\n",
       "      <th>Bad</th>\n",
       "      <th>Share</th>\n",
       "      <th>Bad Rate</th>\n",
       "      <th>Distribution Good</th>\n",
       "      <th>Distribution Bad</th>\n",
       "      <th>WoE</th>\n",
       "      <th>IV</th>\n",
       "    </tr>\n",
       "  </thead>\n",
       "  <tbody>\n",
       "    <tr>\n",
       "      <th>0</th>\n",
       "      <td>email</td>\n",
       "      <td>0</td>\n",
       "      <td>706418</td>\n",
       "      <td>703808</td>\n",
       "      <td>2610</td>\n",
       "      <td>0.908325</td>\n",
       "      <td>0.003695</td>\n",
       "      <td>0.908272</td>\n",
       "      <td>0.922914</td>\n",
       "      <td>-0.015992</td>\n",
       "      <td>0.000234</td>\n",
       "    </tr>\n",
       "    <tr>\n",
       "      <th>1</th>\n",
       "      <td>email</td>\n",
       "      <td>1</td>\n",
       "      <td>71297</td>\n",
       "      <td>71079</td>\n",
       "      <td>218</td>\n",
       "      <td>0.091675</td>\n",
       "      <td>0.003058</td>\n",
       "      <td>0.091728</td>\n",
       "      <td>0.077086</td>\n",
       "      <td>0.173905</td>\n",
       "      <td>0.002546</td>\n",
       "    </tr>\n",
       "  </tbody>\n",
       "</table>\n",
       "</div>"
      ],
      "text/plain": [
       "  Variable Value     All    Good   Bad     Share  Bad Rate  Distribution Good  \\\n",
       "0    email     0  706418  703808  2610  0.908325  0.003695           0.908272   \n",
       "1    email     1   71297   71079   218  0.091675  0.003058           0.091728   \n",
       "\n",
       "   Distribution Bad       WoE        IV  \n",
       "0          0.922914 -0.015992  0.000234  \n",
       "1          0.077086  0.173905  0.002546  "
      ]
     },
     "execution_count": 37,
     "metadata": {},
     "output_type": "execute_result"
    }
   ],
   "source": [
    "print(new_df2['email'].value_counts(normalize=True,sort=False))\n",
    "new_df2['email'] = new_df2['email'].astype(str)\n",
    "iv, data = calc_iv(new_df2, 'email', 'target')\n",
    "iv_data.loc[iv_data['variable'] == 'email', 'IV'] = iv\n",
    "data.head()"
   ]
  },
  {
   "cell_type": "markdown",
   "metadata": {},
   "source": [
    "#### Having a Work Phone or not"
   ]
  },
  {
   "cell_type": "code",
   "execution_count": 38,
   "metadata": {
    "tags": []
   },
   "outputs": [
    {
     "name": "stdout",
     "output_type": "stream",
     "text": [
      "This variable's IV is: 0.014156449393518485\n",
      "0    597427\n",
      "1    180288\n",
      "Name: work_phone, dtype: int64\n"
     ]
    },
    {
     "data": {
      "text/html": [
       "<div>\n",
       "<style scoped>\n",
       "    .dataframe tbody tr th:only-of-type {\n",
       "        vertical-align: middle;\n",
       "    }\n",
       "\n",
       "    .dataframe tbody tr th {\n",
       "        vertical-align: top;\n",
       "    }\n",
       "\n",
       "    .dataframe thead th {\n",
       "        text-align: right;\n",
       "    }\n",
       "</style>\n",
       "<table border=\"1\" class=\"dataframe\">\n",
       "  <thead>\n",
       "    <tr style=\"text-align: right;\">\n",
       "      <th></th>\n",
       "      <th>Variable</th>\n",
       "      <th>Value</th>\n",
       "      <th>All</th>\n",
       "      <th>Good</th>\n",
       "      <th>Bad</th>\n",
       "      <th>Share</th>\n",
       "      <th>Bad Rate</th>\n",
       "      <th>Distribution Good</th>\n",
       "      <th>Distribution Bad</th>\n",
       "      <th>WoE</th>\n",
       "      <th>IV</th>\n",
       "    </tr>\n",
       "  </thead>\n",
       "  <tbody>\n",
       "    <tr>\n",
       "      <th>0</th>\n",
       "      <td>work_phone</td>\n",
       "      <td>0</td>\n",
       "      <td>597427</td>\n",
       "      <td>595401</td>\n",
       "      <td>2026</td>\n",
       "      <td>0.768182</td>\n",
       "      <td>0.003391</td>\n",
       "      <td>0.768371</td>\n",
       "      <td>0.716407</td>\n",
       "      <td>0.070024</td>\n",
       "      <td>0.003639</td>\n",
       "    </tr>\n",
       "    <tr>\n",
       "      <th>1</th>\n",
       "      <td>work_phone</td>\n",
       "      <td>1</td>\n",
       "      <td>180288</td>\n",
       "      <td>179486</td>\n",
       "      <td>802</td>\n",
       "      <td>0.231818</td>\n",
       "      <td>0.004448</td>\n",
       "      <td>0.231629</td>\n",
       "      <td>0.283593</td>\n",
       "      <td>-0.202404</td>\n",
       "      <td>0.010518</td>\n",
       "    </tr>\n",
       "  </tbody>\n",
       "</table>\n",
       "</div>"
      ],
      "text/plain": [
       "     Variable Value     All    Good   Bad     Share  Bad Rate  \\\n",
       "0  work_phone     0  597427  595401  2026  0.768182  0.003391   \n",
       "1  work_phone     1  180288  179486   802  0.231818  0.004448   \n",
       "\n",
       "   Distribution Good  Distribution Bad       WoE        IV  \n",
       "0           0.768371          0.716407  0.070024  0.003639  \n",
       "1           0.231629          0.283593 -0.202404  0.010518  "
      ]
     },
     "execution_count": 38,
     "metadata": {},
     "output_type": "execute_result"
    }
   ],
   "source": [
    "new_df2['work_phone']=new_df2['work_phone'].astype(str)\n",
    "iv, data = calc_iv(new_df2,'work_phone', 'target')\n",
    "new_df2.drop(new_df2[new_df2['work_phone'] == 'nan' ].index, inplace=True)\n",
    "iv_data.loc[iv_data['variable'] == 'work_phone','IV'] = iv\n",
    "data.head()"
   ]
  },
  {
   "cell_type": "markdown",
   "metadata": {},
   "source": [
    "### Continuous Variables"
   ]
  },
  {
   "cell_type": "code",
   "execution_count": 39,
   "metadata": {
    "tags": []
   },
   "outputs": [
    {
     "name": "stdout",
     "output_type": "stream",
     "text": [
      "0        540639\n",
      "1        155638\n",
      "2More     81438\n",
      "Name: children, dtype: int64\n"
     ]
    }
   ],
   "source": [
    "new_df2.loc[new_df2['children'] >= 2,'children']='2More'\n",
    "print(new_df2['children'].value_counts(sort=False))"
   ]
  },
  {
   "cell_type": "code",
   "execution_count": 40,
   "metadata": {
    "tags": []
   },
   "outputs": [
    {
     "name": "stdout",
     "output_type": "stream",
     "text": [
      "This variable's IV is: 0.015040070834382642\n",
      "0        540639\n",
      "1        155638\n",
      "2More     81438\n",
      "Name: children, dtype: int64\n"
     ]
    },
    {
     "data": {
      "text/html": [
       "<div>\n",
       "<style scoped>\n",
       "    .dataframe tbody tr th:only-of-type {\n",
       "        vertical-align: middle;\n",
       "    }\n",
       "\n",
       "    .dataframe tbody tr th {\n",
       "        vertical-align: top;\n",
       "    }\n",
       "\n",
       "    .dataframe thead th {\n",
       "        text-align: right;\n",
       "    }\n",
       "</style>\n",
       "<table border=\"1\" class=\"dataframe\">\n",
       "  <thead>\n",
       "    <tr style=\"text-align: right;\">\n",
       "      <th></th>\n",
       "      <th>Variable</th>\n",
       "      <th>Value</th>\n",
       "      <th>All</th>\n",
       "      <th>Good</th>\n",
       "      <th>Bad</th>\n",
       "      <th>Share</th>\n",
       "      <th>Bad Rate</th>\n",
       "      <th>Distribution Good</th>\n",
       "      <th>Distribution Bad</th>\n",
       "      <th>WoE</th>\n",
       "      <th>IV</th>\n",
       "    </tr>\n",
       "  </thead>\n",
       "  <tbody>\n",
       "    <tr>\n",
       "      <th>0</th>\n",
       "      <td>children</td>\n",
       "      <td>0</td>\n",
       "      <td>540639</td>\n",
       "      <td>538727</td>\n",
       "      <td>1912</td>\n",
       "      <td>0.695163</td>\n",
       "      <td>0.003537</td>\n",
       "      <td>0.695233</td>\n",
       "      <td>0.676096</td>\n",
       "      <td>0.027912</td>\n",
       "      <td>0.000534</td>\n",
       "    </tr>\n",
       "    <tr>\n",
       "      <th>1</th>\n",
       "      <td>children</td>\n",
       "      <td>1</td>\n",
       "      <td>155638</td>\n",
       "      <td>154951</td>\n",
       "      <td>687</td>\n",
       "      <td>0.200122</td>\n",
       "      <td>0.004414</td>\n",
       "      <td>0.199966</td>\n",
       "      <td>0.242928</td>\n",
       "      <td>-0.194618</td>\n",
       "      <td>0.008361</td>\n",
       "    </tr>\n",
       "    <tr>\n",
       "      <th>2</th>\n",
       "      <td>children</td>\n",
       "      <td>2More</td>\n",
       "      <td>81438</td>\n",
       "      <td>81209</td>\n",
       "      <td>229</td>\n",
       "      <td>0.104714</td>\n",
       "      <td>0.002812</td>\n",
       "      <td>0.104801</td>\n",
       "      <td>0.080976</td>\n",
       "      <td>0.257912</td>\n",
       "      <td>0.006145</td>\n",
       "    </tr>\n",
       "  </tbody>\n",
       "</table>\n",
       "</div>"
      ],
      "text/plain": [
       "   Variable  Value     All    Good   Bad     Share  Bad Rate  \\\n",
       "0  children      0  540639  538727  1912  0.695163  0.003537   \n",
       "1  children      1  155638  154951   687  0.200122  0.004414   \n",
       "2  children  2More   81438   81209   229  0.104714  0.002812   \n",
       "\n",
       "   Distribution Good  Distribution Bad       WoE        IV  \n",
       "0           0.695233          0.676096  0.027912  0.000534  \n",
       "1           0.199966          0.242928 -0.194618  0.008361  \n",
       "2           0.104801          0.080976  0.257912  0.006145  "
      ]
     },
     "execution_count": 40,
     "metadata": {},
     "output_type": "execute_result"
    }
   ],
   "source": [
    "iv, data = calc_iv(new_df2,'children','target')\n",
    "iv_data.loc[iv_data['variable'] == 'children','IV'] = iv\n",
    "data.head()"
   ]
  },
  {
   "cell_type": "code",
   "execution_count": 41,
   "metadata": {
    "tags": []
   },
   "outputs": [],
   "source": [
    "new_df2 = convert_dummy(new_df2,'children')"
   ]
  },
  {
   "cell_type": "markdown",
   "metadata": {},
   "source": [
    "#### Annual Income\n",
    "bins the data based on sample quantiles"
   ]
  },
  {
   "cell_type": "code",
   "execution_count": 42,
   "metadata": {
    "tags": []
   },
   "outputs": [
    {
     "name": "stdout",
     "output_type": "stream",
     "text": [
      "(2.544, 18.18]      472222\n",
      "(18.18, 33.66]      246863\n",
      "(33.66, 49.14]       47802\n",
      "(49.14, 64.62]        5746\n",
      "(64.62, 80.1]         3512\n",
      "(80.1, 95.58]         1209\n",
      "(95.58, 111.06]         26\n",
      "(111.06, 126.54]        83\n",
      "(126.54, 142.02]       102\n",
      "(142.02, 157.5]        150\n",
      "Name: income, dtype: int64\n"
     ]
    },
    {
     "data": {
      "text/plain": [
       "<AxesSubplot:ylabel='Frequency'>"
      ]
     },
     "execution_count": 42,
     "metadata": {},
     "output_type": "execute_result"
    },
    {
     "data": {
      "image/png": "[encoded data removed]",
      "text/plain": [
       "<Figure size 432x288 with 1 Axes>"
      ]
     },
     "metadata": {
      "needs_background": "light"
     },
     "output_type": "display_data"
    }
   ],
   "source": [
    "new_df2['income']=new_df2['income'].astype(object)\n",
    "new_df2['income'] = new_df2['income']/10000 \n",
    "print(new_df2['income'].value_counts(bins=10,sort=False))\n",
    "new_df2['income'].plot(kind='hist',bins=50,density=True)"
   ]
  },
  {
   "cell_type": "code",
   "execution_count": 43,
   "metadata": {
    "tags": []
   },
   "outputs": [
    {
     "name": "stdout",
     "output_type": "stream",
     "text": [
      "This variable's IV is: 0.0028746243188995085\n",
      "low       301876\n",
      "high      246790\n",
      "medium    229049\n",
      "Name: gp_income, dtype: int64\n"
     ]
    },
    {
     "data": {
      "text/html": [
       "<div>\n",
       "<style scoped>\n",
       "    .dataframe tbody tr th:only-of-type {\n",
       "        vertical-align: middle;\n",
       "    }\n",
       "\n",
       "    .dataframe tbody tr th {\n",
       "        vertical-align: top;\n",
       "    }\n",
       "\n",
       "    .dataframe thead th {\n",
       "        text-align: right;\n",
       "    }\n",
       "</style>\n",
       "<table border=\"1\" class=\"dataframe\">\n",
       "  <thead>\n",
       "    <tr style=\"text-align: right;\">\n",
       "      <th></th>\n",
       "      <th>Variable</th>\n",
       "      <th>Value</th>\n",
       "      <th>All</th>\n",
       "      <th>Good</th>\n",
       "      <th>Bad</th>\n",
       "      <th>Share</th>\n",
       "      <th>Bad Rate</th>\n",
       "      <th>Distribution Good</th>\n",
       "      <th>Distribution Bad</th>\n",
       "      <th>WoE</th>\n",
       "      <th>IV</th>\n",
       "    </tr>\n",
       "  </thead>\n",
       "  <tbody>\n",
       "    <tr>\n",
       "      <th>0</th>\n",
       "      <td>gp_income</td>\n",
       "      <td>high</td>\n",
       "      <td>246790</td>\n",
       "      <td>245889</td>\n",
       "      <td>901</td>\n",
       "      <td>0.317327</td>\n",
       "      <td>0.003651</td>\n",
       "      <td>0.317322</td>\n",
       "      <td>0.318600</td>\n",
       "      <td>-0.004017</td>\n",
       "      <td>0.000005</td>\n",
       "    </tr>\n",
       "    <tr>\n",
       "      <th>1</th>\n",
       "      <td>gp_income</td>\n",
       "      <td>low</td>\n",
       "      <td>301876</td>\n",
       "      <td>300719</td>\n",
       "      <td>1157</td>\n",
       "      <td>0.388158</td>\n",
       "      <td>0.003833</td>\n",
       "      <td>0.388081</td>\n",
       "      <td>0.409123</td>\n",
       "      <td>-0.052802</td>\n",
       "      <td>0.001111</td>\n",
       "    </tr>\n",
       "    <tr>\n",
       "      <th>2</th>\n",
       "      <td>gp_income</td>\n",
       "      <td>medium</td>\n",
       "      <td>229049</td>\n",
       "      <td>228279</td>\n",
       "      <td>770</td>\n",
       "      <td>0.294515</td>\n",
       "      <td>0.003362</td>\n",
       "      <td>0.294597</td>\n",
       "      <td>0.272277</td>\n",
       "      <td>0.078786</td>\n",
       "      <td>0.001758</td>\n",
       "    </tr>\n",
       "  </tbody>\n",
       "</table>\n",
       "</div>"
      ],
      "text/plain": [
       "    Variable   Value     All    Good   Bad     Share  Bad Rate  \\\n",
       "0  gp_income    high  246790  245889   901  0.317327  0.003651   \n",
       "1  gp_income     low  301876  300719  1157  0.388158  0.003833   \n",
       "2  gp_income  medium  229049  228279   770  0.294515  0.003362   \n",
       "\n",
       "   Distribution Good  Distribution Bad       WoE        IV  \n",
       "0           0.317322          0.318600 -0.004017  0.000005  \n",
       "1           0.388081          0.409123 -0.052802  0.001111  \n",
       "2           0.294597          0.272277  0.078786  0.001758  "
      ]
     },
     "execution_count": 43,
     "metadata": {},
     "output_type": "execute_result"
    }
   ],
   "source": [
    "new_df2 = get_category(new_df2, 'income', 3, [\"low\",\"medium\", \"high\"], qcut = True)\n",
    "iv, data = calc_iv(new_df2, 'gp_income', 'target')\n",
    "iv_data.loc[iv_data['variable'] == 'income', 'IV'] = iv\n",
    "data.head()"
   ]
  },
  {
   "cell_type": "code",
   "execution_count": 44,
   "metadata": {
    "tags": []
   },
   "outputs": [],
   "source": [
    "new_df2 = convert_dummy(new_df2,'gp_income')"
   ]
  },
  {
   "cell_type": "markdown",
   "metadata": {},
   "source": [
    "#### Age\n",
    "Bucketing Continuous Variables"
   ]
  },
  {
   "cell_type": "code",
   "execution_count": 45,
   "metadata": {
    "tags": []
   },
   "outputs": [
    {
     "name": "stdout",
     "output_type": "stream",
     "text": [
      "(19.951, 24.8]    0.012404\n",
      "(24.8, 29.6]      0.103150\n",
      "(29.6, 34.4]      0.139630\n",
      "(34.4, 39.2]      0.147854\n",
      "(39.2, 44.0]      0.148778\n",
      "(44.0, 48.8]      0.096960\n",
      "(48.8, 53.6]      0.115922\n",
      "(53.6, 58.4]      0.108177\n",
      "(58.4, 63.2]      0.091882\n",
      "(63.2, 68.0]      0.035244\n",
      "Name: Age, dtype: float64\n"
     ]
    },
    {
     "data": {
      "text/plain": [
       "<AxesSubplot:ylabel='Frequency'>"
      ]
     },
     "execution_count": 45,
     "metadata": {},
     "output_type": "execute_result"
    },
    {
     "data": {
      "image/png": "[encoded data removed]",
      "text/plain": [
       "<Figure size 432x288 with 1 Axes>"
      ]
     },
     "metadata": {
      "needs_background": "light"
     },
     "output_type": "display_data"
    }
   ],
   "source": [
    "new_df2['Age']=-(new_df2['DAYS_BIRTH'])//365\t\n",
    "print(new_df2['Age'].value_counts(bins=10,normalize=True,sort=False))\n",
    "new_df2['Age'].plot(kind='hist',bins=20,density=True)"
   ]
  },
  {
   "cell_type": "code",
   "execution_count": 46,
   "metadata": {
    "tags": []
   },
   "outputs": [
    {
     "name": "stdout",
     "output_type": "stream",
     "text": [
      "This variable's IV is: 0.01943682732646494\n",
      "low        223580\n",
      "medium     191114\n",
      "high       174285\n",
      "highest     98868\n",
      "lowest      89868\n",
      "Name: gp_Age, dtype: int64\n"
     ]
    },
    {
     "data": {
      "text/html": [
       "<div>\n",
       "<style scoped>\n",
       "    .dataframe tbody tr th:only-of-type {\n",
       "        vertical-align: middle;\n",
       "    }\n",
       "\n",
       "    .dataframe tbody tr th {\n",
       "        vertical-align: top;\n",
       "    }\n",
       "\n",
       "    .dataframe thead th {\n",
       "        text-align: right;\n",
       "    }\n",
       "</style>\n",
       "<table border=\"1\" class=\"dataframe\">\n",
       "  <thead>\n",
       "    <tr style=\"text-align: right;\">\n",
       "      <th></th>\n",
       "      <th>Variable</th>\n",
       "      <th>Value</th>\n",
       "      <th>All</th>\n",
       "      <th>Good</th>\n",
       "      <th>Bad</th>\n",
       "      <th>Share</th>\n",
       "      <th>Bad Rate</th>\n",
       "      <th>Distribution Good</th>\n",
       "      <th>Distribution Bad</th>\n",
       "      <th>WoE</th>\n",
       "      <th>IV</th>\n",
       "    </tr>\n",
       "  </thead>\n",
       "  <tbody>\n",
       "    <tr>\n",
       "      <th>0</th>\n",
       "      <td>gp_Age</td>\n",
       "      <td>high</td>\n",
       "      <td>174285</td>\n",
       "      <td>173527</td>\n",
       "      <td>758</td>\n",
       "      <td>0.224099</td>\n",
       "      <td>0.004349</td>\n",
       "      <td>0.223938</td>\n",
       "      <td>0.268034</td>\n",
       "      <td>-0.179742</td>\n",
       "      <td>0.007926</td>\n",
       "    </tr>\n",
       "    <tr>\n",
       "      <th>1</th>\n",
       "      <td>gp_Age</td>\n",
       "      <td>highest</td>\n",
       "      <td>98868</td>\n",
       "      <td>98478</td>\n",
       "      <td>390</td>\n",
       "      <td>0.127126</td>\n",
       "      <td>0.003945</td>\n",
       "      <td>0.127087</td>\n",
       "      <td>0.137907</td>\n",
       "      <td>-0.081706</td>\n",
       "      <td>0.000884</td>\n",
       "    </tr>\n",
       "    <tr>\n",
       "      <th>2</th>\n",
       "      <td>gp_Age</td>\n",
       "      <td>low</td>\n",
       "      <td>223580</td>\n",
       "      <td>222893</td>\n",
       "      <td>687</td>\n",
       "      <td>0.287483</td>\n",
       "      <td>0.003073</td>\n",
       "      <td>0.287646</td>\n",
       "      <td>0.242928</td>\n",
       "      <td>0.168965</td>\n",
       "      <td>0.007556</td>\n",
       "    </tr>\n",
       "    <tr>\n",
       "      <th>3</th>\n",
       "      <td>gp_Age</td>\n",
       "      <td>lowest</td>\n",
       "      <td>89868</td>\n",
       "      <td>89509</td>\n",
       "      <td>359</td>\n",
       "      <td>0.115554</td>\n",
       "      <td>0.003995</td>\n",
       "      <td>0.115512</td>\n",
       "      <td>0.126945</td>\n",
       "      <td>-0.094375</td>\n",
       "      <td>0.001079</td>\n",
       "    </tr>\n",
       "    <tr>\n",
       "      <th>4</th>\n",
       "      <td>gp_Age</td>\n",
       "      <td>medium</td>\n",
       "      <td>191114</td>\n",
       "      <td>190480</td>\n",
       "      <td>634</td>\n",
       "      <td>0.245738</td>\n",
       "      <td>0.003317</td>\n",
       "      <td>0.245816</td>\n",
       "      <td>0.224187</td>\n",
       "      <td>0.092106</td>\n",
       "      <td>0.001992</td>\n",
       "    </tr>\n",
       "  </tbody>\n",
       "</table>\n",
       "</div>"
      ],
      "text/plain": [
       "  Variable    Value     All    Good  Bad     Share  Bad Rate  \\\n",
       "0   gp_Age     high  174285  173527  758  0.224099  0.004349   \n",
       "1   gp_Age  highest   98868   98478  390  0.127126  0.003945   \n",
       "2   gp_Age      low  223580  222893  687  0.287483  0.003073   \n",
       "3   gp_Age   lowest   89868   89509  359  0.115554  0.003995   \n",
       "4   gp_Age   medium  191114  190480  634  0.245738  0.003317   \n",
       "\n",
       "   Distribution Good  Distribution Bad       WoE        IV  \n",
       "0           0.223938          0.268034 -0.179742  0.007926  \n",
       "1           0.127087          0.137907 -0.081706  0.000884  \n",
       "2           0.287646          0.242928  0.168965  0.007556  \n",
       "3           0.115512          0.126945 -0.094375  0.001079  \n",
       "4           0.245816          0.224187  0.092106  0.001992  "
      ]
     },
     "execution_count": 46,
     "metadata": {},
     "output_type": "execute_result"
    }
   ],
   "source": [
    "new_df2 = get_category(new_df2,'Age',5, [\"lowest\",\"low\",\"medium\",\"high\",\"highest\"])\n",
    "iv, data = calc_iv(new_df2,'gp_Age','target')\n",
    "iv_data.loc[iv_data['variable'] == 'DAYS_BIRTH', 'IV'] = iv\n",
    "data.head()"
   ]
  },
  {
   "cell_type": "code",
   "execution_count": 47,
   "metadata": {
    "tags": []
   },
   "outputs": [],
   "source": [
    "new_df2 = convert_dummy(new_df2,'gp_Age')"
   ]
  },
  {
   "cell_type": "code",
   "execution_count": 48,
   "metadata": {},
   "outputs": [
    {
     "data": {
      "text/plain": [
       "Index(['ID', 'gender', 'car', 'property', 'income', 'income_category',\n",
       "       'education', 'marital_status', 'housing', 'DAYS_BIRTH', 'DAYS_EMPLOYED',\n",
       "       'FLAG_MOBIL', 'work_phone', 'phone', 'email', 'occupation',\n",
       "       'family_size', 'start_month', 'MONTHS_BALANCE', 'STATUS', 'debt_class',\n",
       "       'target', 'children_1', 'children_2More', 'gp_income_high',\n",
       "       'gp_income_medium', 'Age', 'gp_Age_high', 'gp_Age_highest',\n",
       "       'gp_Age_lowest', 'gp_Age_medium'],\n",
       "      dtype='object')"
      ]
     },
     "execution_count": 48,
     "metadata": {},
     "output_type": "execute_result"
    }
   ],
   "source": [
    "new_df2.columns"
   ]
  },
  {
   "cell_type": "markdown",
   "metadata": {},
   "source": [
    "#### Working Years\n",
    "+ Equal-length Bucketing"
   ]
  },
  {
   "cell_type": "code",
   "execution_count": 49,
   "metadata": {
    "tags": []
   },
   "outputs": [
    {
     "data": {
      "text/plain": [
       "<AxesSubplot:ylabel='Frequency'>"
      ]
     },
     "execution_count": 49,
     "metadata": {},
     "output_type": "execute_result"
    },
    {
     "data": {
      "image/png": "[encoded data removed]",
      "text/plain": [
       "<Figure size 432x288 with 1 Axes>"
      ]
     },
     "metadata": {
      "needs_background": "light"
     },
     "output_type": "display_data"
    }
   ],
   "source": [
    "new_df2['work_yrs'] =- (new_df2['DAYS_EMPLOYED'])//365\t\n",
    "new_df2[new_df2['work_yrs']<0] = np.nan # replace by na\n",
    "new_df2['DAYS_EMPLOYED']\n",
    "new_df2['work_yrs'].fillna(new_df2['work_yrs'].mean(),inplace = True) #replace na by mean\n",
    "new_df2['work_yrs'].plot(kind = 'hist', bins = 20, density = True)"
   ]
  },
  {
   "cell_type": "code",
   "execution_count": 50,
   "metadata": {
    "tags": []
   },
   "outputs": [
    {
     "name": "stdout",
     "output_type": "stream",
     "text": [
      "This variable's IV is: 0.010090710377119175\n",
      "lowest     582376\n",
      "low        141513\n",
      "medium      37968\n",
      "high        12798\n",
      "highest      3060\n",
      "Name: gp_work_yrs, dtype: int64\n"
     ]
    },
    {
     "data": {
      "text/html": [
       "<div>\n",
       "<style scoped>\n",
       "    .dataframe tbody tr th:only-of-type {\n",
       "        vertical-align: middle;\n",
       "    }\n",
       "\n",
       "    .dataframe tbody tr th {\n",
       "        vertical-align: top;\n",
       "    }\n",
       "\n",
       "    .dataframe thead th {\n",
       "        text-align: right;\n",
       "    }\n",
       "</style>\n",
       "<table border=\"1\" class=\"dataframe\">\n",
       "  <thead>\n",
       "    <tr style=\"text-align: right;\">\n",
       "      <th></th>\n",
       "      <th>Variable</th>\n",
       "      <th>Value</th>\n",
       "      <th>All</th>\n",
       "      <th>Good</th>\n",
       "      <th>Bad</th>\n",
       "      <th>Share</th>\n",
       "      <th>Bad Rate</th>\n",
       "      <th>Distribution Good</th>\n",
       "      <th>Distribution Bad</th>\n",
       "      <th>WoE</th>\n",
       "      <th>IV</th>\n",
       "    </tr>\n",
       "  </thead>\n",
       "  <tbody>\n",
       "    <tr>\n",
       "      <th>0</th>\n",
       "      <td>gp_work_yrs</td>\n",
       "      <td>high</td>\n",
       "      <td>12798</td>\n",
       "      <td>12770</td>\n",
       "      <td>28</td>\n",
       "      <td>0.016456</td>\n",
       "      <td>0.002188</td>\n",
       "      <td>0.016469</td>\n",
       "      <td>0.012158</td>\n",
       "      <td>0.303468</td>\n",
       "      <td>1.308130e-03</td>\n",
       "    </tr>\n",
       "    <tr>\n",
       "      <th>1</th>\n",
       "      <td>gp_work_yrs</td>\n",
       "      <td>highest</td>\n",
       "      <td>3060</td>\n",
       "      <td>3051</td>\n",
       "      <td>9</td>\n",
       "      <td>0.003935</td>\n",
       "      <td>0.002941</td>\n",
       "      <td>0.003935</td>\n",
       "      <td>0.003908</td>\n",
       "      <td>0.006818</td>\n",
       "      <td>1.822942e-07</td>\n",
       "    </tr>\n",
       "    <tr>\n",
       "      <th>2</th>\n",
       "      <td>gp_work_yrs</td>\n",
       "      <td>low</td>\n",
       "      <td>141513</td>\n",
       "      <td>141152</td>\n",
       "      <td>361</td>\n",
       "      <td>0.181960</td>\n",
       "      <td>0.002551</td>\n",
       "      <td>0.182035</td>\n",
       "      <td>0.156752</td>\n",
       "      <td>0.149533</td>\n",
       "      <td>3.780604e-03</td>\n",
       "    </tr>\n",
       "    <tr>\n",
       "      <th>3</th>\n",
       "      <td>gp_work_yrs</td>\n",
       "      <td>lowest</td>\n",
       "      <td>582376</td>\n",
       "      <td>452586</td>\n",
       "      <td>1818</td>\n",
       "      <td>0.748830</td>\n",
       "      <td>0.003122</td>\n",
       "      <td>0.748709</td>\n",
       "      <td>0.789405</td>\n",
       "      <td>-0.052929</td>\n",
       "      <td>2.154008e-03</td>\n",
       "    </tr>\n",
       "    <tr>\n",
       "      <th>4</th>\n",
       "      <td>gp_work_yrs</td>\n",
       "      <td>medium</td>\n",
       "      <td>37968</td>\n",
       "      <td>37881</td>\n",
       "      <td>87</td>\n",
       "      <td>0.048820</td>\n",
       "      <td>0.002291</td>\n",
       "      <td>0.048853</td>\n",
       "      <td>0.037777</td>\n",
       "      <td>0.257115</td>\n",
       "      <td>2.847786e-03</td>\n",
       "    </tr>\n",
       "  </tbody>\n",
       "</table>\n",
       "</div>"
      ],
      "text/plain": [
       "      Variable    Value     All    Good   Bad     Share  Bad Rate  \\\n",
       "0  gp_work_yrs     high   12798   12770    28  0.016456  0.002188   \n",
       "1  gp_work_yrs  highest    3060    3051     9  0.003935  0.002941   \n",
       "2  gp_work_yrs      low  141513  141152   361  0.181960  0.002551   \n",
       "3  gp_work_yrs   lowest  582376  452586  1818  0.748830  0.003122   \n",
       "4  gp_work_yrs   medium   37968   37881    87  0.048820  0.002291   \n",
       "\n",
       "   Distribution Good  Distribution Bad       WoE            IV  \n",
       "0           0.016469          0.012158  0.303468  1.308130e-03  \n",
       "1           0.003935          0.003908  0.006818  1.822942e-07  \n",
       "2           0.182035          0.156752  0.149533  3.780604e-03  \n",
       "3           0.748709          0.789405 -0.052929  2.154008e-03  \n",
       "4           0.048853          0.037777  0.257115  2.847786e-03  "
      ]
     },
     "execution_count": 50,
     "metadata": {},
     "output_type": "execute_result"
    }
   ],
   "source": [
    "new_df2 = get_category(new_df2,'work_yrs',5, [\"lowest\",\"low\",\"medium\",\"high\",\"highest\"])\n",
    "iv, data = calc_iv(new_df2,'gp_work_yrs','target')\n",
    "iv_data.loc[iv_data['variable'] == 'DAYS_EMPLOYED', 'IV'] = iv\n",
    "data.head()"
   ]
  },
  {
   "cell_type": "code",
   "execution_count": 51,
   "metadata": {
    "tags": []
   },
   "outputs": [],
   "source": [
    "new_df2 = convert_dummy(new_df2,'gp_work_yrs')"
   ]
  },
  {
   "cell_type": "markdown",
   "metadata": {},
   "source": [
    "#### Famliy Size"
   ]
  },
  {
   "cell_type": "code",
   "execution_count": 52,
   "metadata": {},
   "outputs": [
    {
     "data": {
      "text/plain": [
       "2.0     338070\n",
       "1.0     103223\n",
       "5.0       8869\n",
       "3.0     131805\n",
       "4.0      66144\n",
       "6.0       1196\n",
       "15.0       111\n",
       "7.0        273\n",
       "20.0         6\n",
       "9.0         46\n",
       "Name: family_size, dtype: int64"
      ]
     },
     "execution_count": 52,
     "metadata": {},
     "output_type": "execute_result"
    }
   ],
   "source": [
    "new_df2['family_size'].value_counts(sort=False)"
   ]
  },
  {
   "cell_type": "code",
   "execution_count": 56,
   "metadata": {},
   "outputs": [
    {
     "name": "stdout",
     "output_type": "stream",
     "text": [
      "Your selected dataframe has 36 columns and 649743 Rows.\n",
      "There are 0 columns that have missing values.\n"
     ]
    },
    {
     "data": {
      "text/html": [
       "<div>\n",
       "<style scoped>\n",
       "    .dataframe tbody tr th:only-of-type {\n",
       "        vertical-align: middle;\n",
       "    }\n",
       "\n",
       "    .dataframe tbody tr th {\n",
       "        vertical-align: top;\n",
       "    }\n",
       "\n",
       "    .dataframe thead th {\n",
       "        text-align: right;\n",
       "    }\n",
       "</style>\n",
       "<table border=\"1\" class=\"dataframe\">\n",
       "  <thead>\n",
       "    <tr style=\"text-align: right;\">\n",
       "      <th></th>\n",
       "      <th>Zero Values</th>\n",
       "      <th>Missing Values</th>\n",
       "      <th>% of Total Values</th>\n",
       "      <th>Total Zero Missing Values</th>\n",
       "      <th>% Total Zero Missing Values</th>\n",
       "      <th>Data Type</th>\n",
       "    </tr>\n",
       "  </thead>\n",
       "  <tbody>\n",
       "  </tbody>\n",
       "</table>\n",
       "</div>"
      ],
      "text/plain": [
       "Empty DataFrame\n",
       "Columns: [Zero Values, Missing Values, % of Total Values, Total Zero Missing Values, % Total Zero Missing Values, Data Type]\n",
       "Index: []"
      ]
     },
     "execution_count": 56,
     "metadata": {},
     "output_type": "execute_result"
    }
   ],
   "source": [
    "missing_values(new_df2)"
   ]
  },
  {
   "cell_type": "code",
   "execution_count": 57,
   "metadata": {},
   "outputs": [],
   "source": [
    "new_df2 = new_df2.dropna()"
   ]
  },
  {
   "cell_type": "code",
   "execution_count": 58,
   "metadata": {},
   "outputs": [
    {
     "name": "stdout",
     "output_type": "stream",
     "text": [
      "Your selected dataframe has 36 columns and 649743 Rows.\n",
      "There are 0 columns that have missing values.\n"
     ]
    },
    {
     "data": {
      "text/html": [
       "<div>\n",
       "<style scoped>\n",
       "    .dataframe tbody tr th:only-of-type {\n",
       "        vertical-align: middle;\n",
       "    }\n",
       "\n",
       "    .dataframe tbody tr th {\n",
       "        vertical-align: top;\n",
       "    }\n",
       "\n",
       "    .dataframe thead th {\n",
       "        text-align: right;\n",
       "    }\n",
       "</style>\n",
       "<table border=\"1\" class=\"dataframe\">\n",
       "  <thead>\n",
       "    <tr style=\"text-align: right;\">\n",
       "      <th></th>\n",
       "      <th>Zero Values</th>\n",
       "      <th>Missing Values</th>\n",
       "      <th>% of Total Values</th>\n",
       "      <th>Total Zero Missing Values</th>\n",
       "      <th>% Total Zero Missing Values</th>\n",
       "      <th>Data Type</th>\n",
       "    </tr>\n",
       "  </thead>\n",
       "  <tbody>\n",
       "  </tbody>\n",
       "</table>\n",
       "</div>"
      ],
      "text/plain": [
       "Empty DataFrame\n",
       "Columns: [Zero Values, Missing Values, % of Total Values, Total Zero Missing Values, % Total Zero Missing Values, Data Type]\n",
       "Index: []"
      ]
     },
     "execution_count": 58,
     "metadata": {},
     "output_type": "execute_result"
    }
   ],
   "source": [
    "missing_zero_values_table(new_df2)"
   ]
  },
  {
   "cell_type": "code",
   "execution_count": 59,
   "metadata": {
    "tags": []
   },
   "outputs": [
    {
     "name": "stdout",
     "output_type": "stream",
     "text": [
      "This variable's IV is: 0.0019887589151372786\n",
      "2        338070\n",
      "3more    208450\n",
      "1        103223\n",
      "Name: family_sizegp, dtype: int64\n"
     ]
    },
    {
     "data": {
      "text/html": [
       "<div>\n",
       "<style scoped>\n",
       "    .dataframe tbody tr th:only-of-type {\n",
       "        vertical-align: middle;\n",
       "    }\n",
       "\n",
       "    .dataframe tbody tr th {\n",
       "        vertical-align: top;\n",
       "    }\n",
       "\n",
       "    .dataframe thead th {\n",
       "        text-align: right;\n",
       "    }\n",
       "</style>\n",
       "<table border=\"1\" class=\"dataframe\">\n",
       "  <thead>\n",
       "    <tr style=\"text-align: right;\">\n",
       "      <th></th>\n",
       "      <th>Variable</th>\n",
       "      <th>Value</th>\n",
       "      <th>All</th>\n",
       "      <th>Good</th>\n",
       "      <th>Bad</th>\n",
       "      <th>Share</th>\n",
       "      <th>Bad Rate</th>\n",
       "      <th>Distribution Good</th>\n",
       "      <th>Distribution Bad</th>\n",
       "      <th>WoE</th>\n",
       "      <th>IV</th>\n",
       "    </tr>\n",
       "  </thead>\n",
       "  <tbody>\n",
       "    <tr>\n",
       "      <th>0</th>\n",
       "      <td>family_sizegp</td>\n",
       "      <td>1</td>\n",
       "      <td>103223</td>\n",
       "      <td>102869</td>\n",
       "      <td>354</td>\n",
       "      <td>0.158867</td>\n",
       "      <td>0.003429</td>\n",
       "      <td>0.158886</td>\n",
       "      <td>0.153713</td>\n",
       "      <td>0.033101</td>\n",
       "      <td>0.000171</td>\n",
       "    </tr>\n",
       "    <tr>\n",
       "      <th>1</th>\n",
       "      <td>family_sizegp</td>\n",
       "      <td>2</td>\n",
       "      <td>338070</td>\n",
       "      <td>336908</td>\n",
       "      <td>1162</td>\n",
       "      <td>0.520313</td>\n",
       "      <td>0.003437</td>\n",
       "      <td>0.520369</td>\n",
       "      <td>0.504559</td>\n",
       "      <td>0.030854</td>\n",
       "      <td>0.000488</td>\n",
       "    </tr>\n",
       "    <tr>\n",
       "      <th>2</th>\n",
       "      <td>family_sizegp</td>\n",
       "      <td>3more</td>\n",
       "      <td>208450</td>\n",
       "      <td>207663</td>\n",
       "      <td>787</td>\n",
       "      <td>0.320819</td>\n",
       "      <td>0.003775</td>\n",
       "      <td>0.320745</td>\n",
       "      <td>0.341728</td>\n",
       "      <td>-0.063370</td>\n",
       "      <td>0.001330</td>\n",
       "    </tr>\n",
       "  </tbody>\n",
       "</table>\n",
       "</div>"
      ],
      "text/plain": [
       "        Variable  Value     All    Good   Bad     Share  Bad Rate  \\\n",
       "0  family_sizegp      1  103223  102869   354  0.158867  0.003429   \n",
       "1  family_sizegp      2  338070  336908  1162  0.520313  0.003437   \n",
       "2  family_sizegp  3more  208450  207663   787  0.320819  0.003775   \n",
       "\n",
       "   Distribution Good  Distribution Bad       WoE        IV  \n",
       "0           0.158886          0.153713  0.033101  0.000171  \n",
       "1           0.520369          0.504559  0.030854  0.000488  \n",
       "2           0.320745          0.341728 -0.063370  0.001330  "
      ]
     },
     "execution_count": 59,
     "metadata": {},
     "output_type": "execute_result"
    }
   ],
   "source": [
    "new_df2['family_size'] = new_df2['family_size'].astype(int)\n",
    "new_df2['family_size'] = new_df2['family_size']\n",
    "new_df2['family_sizegp'] = new_df2['family_size'].astype(object)\n",
    "new_df2.loc[new_df2['family_sizegp'] >= 3,'family_sizegp'] = '3more'\n",
    "iv, data = calc_iv(new_df2,'family_sizegp','target')\n",
    "iv_data.loc[iv_data['variable'] == 'family_size','IV'] = iv\n",
    "data.head()"
   ]
  },
  {
   "cell_type": "code",
   "execution_count": 60,
   "metadata": {
    "tags": []
   },
   "outputs": [],
   "source": [
    "new_df2 = convert_dummy(new_df2,'family_sizegp')"
   ]
  },
  {
   "cell_type": "markdown",
   "metadata": {},
   "source": [
    "### Categorical Features"
   ]
  },
  {
   "cell_type": "markdown",
   "metadata": {},
   "source": [
    "#### Income Type"
   ]
  },
  {
   "cell_type": "code",
   "execution_count": 61,
   "metadata": {
    "tags": []
   },
   "outputs": [
    {
     "name": "stdout",
     "output_type": "stream",
     "text": [
      "Working                 400164\n",
      "Commercial associate    183385\n",
      "State servant            65437\n",
      "Student                    337\n",
      "Pensioner                  420\n",
      "Name: income_category, dtype: int64\n",
      "Working                 0.615880\n",
      "Commercial associate    0.282242\n",
      "State servant           0.100712\n",
      "Student                 0.000519\n",
      "Pensioner               0.000646\n",
      "Name: income_category, dtype: float64\n"
     ]
    }
   ],
   "source": [
    "print(new_df2['income_category'].value_counts(sort=False))\n",
    "print(new_df2['income_category'].value_counts(normalize=True,sort=False))"
   ]
  },
  {
   "cell_type": "code",
   "execution_count": 62,
   "metadata": {},
   "outputs": [
    {
     "name": "stdout",
     "output_type": "stream",
     "text": [
      "This variable's IV is: 0.05258310656556628\n",
      "Working                 400164\n",
      "Commercial associate    183385\n",
      "Govt Paid & Students     66194\n",
      "Name: income_category, dtype: int64\n"
     ]
    },
    {
     "data": {
      "text/html": [
       "<div>\n",
       "<style scoped>\n",
       "    .dataframe tbody tr th:only-of-type {\n",
       "        vertical-align: middle;\n",
       "    }\n",
       "\n",
       "    .dataframe tbody tr th {\n",
       "        vertical-align: top;\n",
       "    }\n",
       "\n",
       "    .dataframe thead th {\n",
       "        text-align: right;\n",
       "    }\n",
       "</style>\n",
       "<table border=\"1\" class=\"dataframe\">\n",
       "  <thead>\n",
       "    <tr style=\"text-align: right;\">\n",
       "      <th></th>\n",
       "      <th>Variable</th>\n",
       "      <th>Value</th>\n",
       "      <th>All</th>\n",
       "      <th>Good</th>\n",
       "      <th>Bad</th>\n",
       "      <th>Share</th>\n",
       "      <th>Bad Rate</th>\n",
       "      <th>Distribution Good</th>\n",
       "      <th>Distribution Bad</th>\n",
       "      <th>WoE</th>\n",
       "      <th>IV</th>\n",
       "    </tr>\n",
       "  </thead>\n",
       "  <tbody>\n",
       "    <tr>\n",
       "      <th>0</th>\n",
       "      <td>income_category</td>\n",
       "      <td>Commercial associate</td>\n",
       "      <td>183385</td>\n",
       "      <td>182488</td>\n",
       "      <td>897</td>\n",
       "      <td>0.282242</td>\n",
       "      <td>0.004891</td>\n",
       "      <td>0.281861</td>\n",
       "      <td>0.389492</td>\n",
       "      <td>-0.323430</td>\n",
       "      <td>0.034811</td>\n",
       "    </tr>\n",
       "    <tr>\n",
       "      <th>1</th>\n",
       "      <td>income_category</td>\n",
       "      <td>Govt Paid &amp; Students</td>\n",
       "      <td>66194</td>\n",
       "      <td>65984</td>\n",
       "      <td>210</td>\n",
       "      <td>0.101877</td>\n",
       "      <td>0.003172</td>\n",
       "      <td>0.101915</td>\n",
       "      <td>0.091185</td>\n",
       "      <td>0.111247</td>\n",
       "      <td>0.001194</td>\n",
       "    </tr>\n",
       "    <tr>\n",
       "      <th>2</th>\n",
       "      <td>income_category</td>\n",
       "      <td>Working</td>\n",
       "      <td>400164</td>\n",
       "      <td>398968</td>\n",
       "      <td>1196</td>\n",
       "      <td>0.615880</td>\n",
       "      <td>0.002989</td>\n",
       "      <td>0.616224</td>\n",
       "      <td>0.519323</td>\n",
       "      <td>0.171085</td>\n",
       "      <td>0.016578</td>\n",
       "    </tr>\n",
       "  </tbody>\n",
       "</table>\n",
       "</div>"
      ],
      "text/plain": [
       "          Variable                 Value     All    Good   Bad     Share  \\\n",
       "0  income_category  Commercial associate  183385  182488   897  0.282242   \n",
       "1  income_category  Govt Paid & Students   66194   65984   210  0.101877   \n",
       "2  income_category               Working  400164  398968  1196  0.615880   \n",
       "\n",
       "   Bad Rate  Distribution Good  Distribution Bad       WoE        IV  \n",
       "0  0.004891           0.281861          0.389492 -0.323430  0.034811  \n",
       "1  0.003172           0.101915          0.091185  0.111247  0.001194  \n",
       "2  0.002989           0.616224          0.519323  0.171085  0.016578  "
      ]
     },
     "execution_count": 62,
     "metadata": {},
     "output_type": "execute_result"
    }
   ],
   "source": [
    "new_df2.loc[new_df2['income_category'] == 'Pensioner','income_category'] = 'Govt Paid & Students'\n",
    "new_df2.loc[new_df2['income_category'] == 'Student','income_category'] = 'Govt Paid & Students'\n",
    "new_df2.loc[new_df2['income_category'] == 'State servant','income_category'] = 'Govt Paid & Students'\n",
    "\n",
    "iv, data = calc_iv(new_df2,'income_category', 'target')\n",
    "iv_data.loc[iv_data['variable'] == 'income_category','IV'] = iv\n",
    "data.head()"
   ]
  },
  {
   "cell_type": "code",
   "execution_count": 63,
   "metadata": {
    "tags": []
   },
   "outputs": [],
   "source": [
    "new_df2 = convert_dummy(new_df2,'income_category')"
   ]
  },
  {
   "cell_type": "markdown",
   "metadata": {},
   "source": [
    "#### Occupation Type"
   ]
  },
  {
   "cell_type": "code",
   "execution_count": 64,
   "metadata": {
    "tags": []
   },
   "outputs": [],
   "source": [
    "general_work = ['Cleaning staff', 'Cooking staff', 'Drivers', 'Laborers', 'Low-skill Laborers',  'Security staff', 'Waiters/barmen staff']\n",
    "office_work = ['Accountants', 'Core staff', 'HR staff', 'Medicine staff', 'Private service staff', 'Realty agents', 'Sales staff', 'Secretaries']\n",
    "execs_tech = ['Managers', 'High skill tech staff', 'IT staff'] \n",
    "\n",
    "def get_work(row):\n",
    "    if any(n in row['occupation'] for n in general_work) == True:\n",
    "        return 'general_work'\n",
    "    elif any(n in row['occupation'] for n in office_work) == True:\n",
    "        return 'office_work'\n",
    "    elif any(n in row['occupation'] for n in execs_tech) == True:\n",
    "        return 'executives_techwork'"
   ]
  },
  {
   "cell_type": "code",
   "execution_count": 65,
   "metadata": {},
   "outputs": [],
   "source": [
    "#new_df2['occupation'] = new_df2['occupation'].apply(get_work)"
   ]
  },
  {
   "cell_type": "code",
   "execution_count": 66,
   "metadata": {},
   "outputs": [
    {
     "name": "stdout",
     "output_type": "stream",
     "text": [
      "general_work      222645\n",
      "office_work       214197\n",
      "unspecified       112076\n",
      "execs_techwork    100825\n",
      "Name: occupation, dtype: int64\n",
      "This variable's IV is: 0.04658777845258981\n",
      "general_work      222645\n",
      "office_work       214197\n",
      "unspecified       112076\n",
      "execs_techwork    100825\n",
      "Name: occupation, dtype: int64\n"
     ]
    },
    {
     "data": {
      "text/html": [
       "<div>\n",
       "<style scoped>\n",
       "    .dataframe tbody tr th:only-of-type {\n",
       "        vertical-align: middle;\n",
       "    }\n",
       "\n",
       "    .dataframe tbody tr th {\n",
       "        vertical-align: top;\n",
       "    }\n",
       "\n",
       "    .dataframe thead th {\n",
       "        text-align: right;\n",
       "    }\n",
       "</style>\n",
       "<table border=\"1\" class=\"dataframe\">\n",
       "  <thead>\n",
       "    <tr style=\"text-align: right;\">\n",
       "      <th></th>\n",
       "      <th>Variable</th>\n",
       "      <th>Value</th>\n",
       "      <th>All</th>\n",
       "      <th>Good</th>\n",
       "      <th>Bad</th>\n",
       "      <th>Share</th>\n",
       "      <th>Bad Rate</th>\n",
       "      <th>Distribution Good</th>\n",
       "      <th>Distribution Bad</th>\n",
       "      <th>WoE</th>\n",
       "      <th>IV</th>\n",
       "    </tr>\n",
       "  </thead>\n",
       "  <tbody>\n",
       "    <tr>\n",
       "      <th>0</th>\n",
       "      <td>occupation</td>\n",
       "      <td>execs_techwork</td>\n",
       "      <td>100825</td>\n",
       "      <td>100391</td>\n",
       "      <td>434</td>\n",
       "      <td>0.155177</td>\n",
       "      <td>0.004304</td>\n",
       "      <td>0.155058</td>\n",
       "      <td>0.188450</td>\n",
       "      <td>-0.195030</td>\n",
       "      <td>0.006512</td>\n",
       "    </tr>\n",
       "    <tr>\n",
       "      <th>1</th>\n",
       "      <td>occupation</td>\n",
       "      <td>general_work</td>\n",
       "      <td>222645</td>\n",
       "      <td>221691</td>\n",
       "      <td>954</td>\n",
       "      <td>0.342666</td>\n",
       "      <td>0.004285</td>\n",
       "      <td>0.342412</td>\n",
       "      <td>0.414242</td>\n",
       "      <td>-0.190437</td>\n",
       "      <td>0.013679</td>\n",
       "    </tr>\n",
       "    <tr>\n",
       "      <th>2</th>\n",
       "      <td>occupation</td>\n",
       "      <td>office_work</td>\n",
       "      <td>214197</td>\n",
       "      <td>213623</td>\n",
       "      <td>574</td>\n",
       "      <td>0.329664</td>\n",
       "      <td>0.002680</td>\n",
       "      <td>0.329950</td>\n",
       "      <td>0.249240</td>\n",
       "      <td>0.280525</td>\n",
       "      <td>0.022641</td>\n",
       "    </tr>\n",
       "    <tr>\n",
       "      <th>3</th>\n",
       "      <td>occupation</td>\n",
       "      <td>unspecified</td>\n",
       "      <td>112076</td>\n",
       "      <td>111735</td>\n",
       "      <td>341</td>\n",
       "      <td>0.172493</td>\n",
       "      <td>0.003043</td>\n",
       "      <td>0.172580</td>\n",
       "      <td>0.148068</td>\n",
       "      <td>0.153189</td>\n",
       "      <td>0.003755</td>\n",
       "    </tr>\n",
       "  </tbody>\n",
       "</table>\n",
       "</div>"
      ],
      "text/plain": [
       "     Variable           Value     All    Good  Bad     Share  Bad Rate  \\\n",
       "0  occupation  execs_techwork  100825  100391  434  0.155177  0.004304   \n",
       "1  occupation    general_work  222645  221691  954  0.342666  0.004285   \n",
       "2  occupation     office_work  214197  213623  574  0.329664  0.002680   \n",
       "3  occupation     unspecified  112076  111735  341  0.172493  0.003043   \n",
       "\n",
       "   Distribution Good  Distribution Bad       WoE        IV  \n",
       "0           0.155058          0.188450 -0.195030  0.006512  \n",
       "1           0.342412          0.414242 -0.190437  0.013679  \n",
       "2           0.329950          0.249240  0.280525  0.022641  \n",
       "3           0.172580          0.148068  0.153189  0.003755  "
      ]
     },
     "execution_count": 66,
     "metadata": {},
     "output_type": "execute_result"
    }
   ],
   "source": [
    "new_df2.loc[(new_df2['occupation']=='Cleaning staff') | (new_df2['occupation']=='Cooking staff') | (new_df2['occupation']=='Drivers') | (new_df2['occupation']=='Laborers') | (new_df2['occupation']=='Low-skill Laborers') | (new_df2['occupation']=='Security staff') | (new_df2['occupation']=='Waiters/barmen staff'),'occupation']= 'general_work'\n",
    "new_df2.loc[(new_df2['occupation']=='Accountants') | (new_df2['occupation']=='Core staff') | (new_df2['occupation']=='HR staff') | (new_df2['occupation']=='Medicine staff') | (new_df2['occupation']=='Private service staff') | (new_df2['occupation']=='Realty agents') | (new_df2['occupation']=='Sales staff') | (new_df2['occupation']=='Secretaries'),'occupation']='office_work'\n",
    "new_df2.loc[(new_df2['occupation']=='Managers') | (new_df2['occupation']=='High skill tech staff') | (new_df2['occupation']=='IT staff'),'occupation']='execs_techwork'\n",
    "print(new_df2['occupation'].value_counts())\n",
    "iv, data=calc_iv(new_df2,'occupation','target')\n",
    "iv_data.loc[iv_data['variable']=='occupation','IV']=iv\n",
    "data.head()  "
   ]
  },
  {
   "cell_type": "code",
   "execution_count": 67,
   "metadata": {
    "tags": []
   },
   "outputs": [],
   "source": [
    "new_df2 = convert_dummy(new_df2, 'occupation')"
   ]
  },
  {
   "cell_type": "markdown",
   "metadata": {},
   "source": [
    "#### House Type"
   ]
  },
  {
   "cell_type": "code",
   "execution_count": 68,
   "metadata": {
    "tags": []
   },
   "outputs": [
    {
     "name": "stdout",
     "output_type": "stream",
     "text": [
      "This variable's IV is: 0.015611463207027408\n",
      "House / apartment      574114\n",
      "With parents            35632\n",
      "Municipal apartment     21131\n",
      "Rented apartment        10263\n",
      "Office apartment         4998\n",
      "Co-op apartment          3605\n",
      "Name: housing, dtype: int64\n"
     ]
    },
    {
     "data": {
      "text/html": [
       "<div>\n",
       "<style scoped>\n",
       "    .dataframe tbody tr th:only-of-type {\n",
       "        vertical-align: middle;\n",
       "    }\n",
       "\n",
       "    .dataframe tbody tr th {\n",
       "        vertical-align: top;\n",
       "    }\n",
       "\n",
       "    .dataframe thead th {\n",
       "        text-align: right;\n",
       "    }\n",
       "</style>\n",
       "<table border=\"1\" class=\"dataframe\">\n",
       "  <thead>\n",
       "    <tr style=\"text-align: right;\">\n",
       "      <th></th>\n",
       "      <th>Variable</th>\n",
       "      <th>Value</th>\n",
       "      <th>All</th>\n",
       "      <th>Good</th>\n",
       "      <th>Bad</th>\n",
       "      <th>Share</th>\n",
       "      <th>Bad Rate</th>\n",
       "      <th>Distribution Good</th>\n",
       "      <th>Distribution Bad</th>\n",
       "      <th>WoE</th>\n",
       "      <th>IV</th>\n",
       "    </tr>\n",
       "  </thead>\n",
       "  <tbody>\n",
       "    <tr>\n",
       "      <th>0</th>\n",
       "      <td>housing</td>\n",
       "      <td>Co-op apartment</td>\n",
       "      <td>3605</td>\n",
       "      <td>3575</td>\n",
       "      <td>30</td>\n",
       "      <td>0.005548</td>\n",
       "      <td>0.008322</td>\n",
       "      <td>0.005522</td>\n",
       "      <td>0.013026</td>\n",
       "      <td>-0.858290</td>\n",
       "      <td>0.006441</td>\n",
       "    </tr>\n",
       "    <tr>\n",
       "      <th>1</th>\n",
       "      <td>housing</td>\n",
       "      <td>House / apartment</td>\n",
       "      <td>574114</td>\n",
       "      <td>572122</td>\n",
       "      <td>1992</td>\n",
       "      <td>0.883602</td>\n",
       "      <td>0.003470</td>\n",
       "      <td>0.883668</td>\n",
       "      <td>0.864959</td>\n",
       "      <td>0.021400</td>\n",
       "      <td>0.000400</td>\n",
       "    </tr>\n",
       "    <tr>\n",
       "      <th>2</th>\n",
       "      <td>housing</td>\n",
       "      <td>Municipal apartment</td>\n",
       "      <td>21131</td>\n",
       "      <td>21030</td>\n",
       "      <td>101</td>\n",
       "      <td>0.032522</td>\n",
       "      <td>0.004780</td>\n",
       "      <td>0.032482</td>\n",
       "      <td>0.043856</td>\n",
       "      <td>-0.300229</td>\n",
       "      <td>0.003415</td>\n",
       "    </tr>\n",
       "    <tr>\n",
       "      <th>3</th>\n",
       "      <td>housing</td>\n",
       "      <td>Office apartment</td>\n",
       "      <td>4998</td>\n",
       "      <td>4968</td>\n",
       "      <td>30</td>\n",
       "      <td>0.007692</td>\n",
       "      <td>0.006002</td>\n",
       "      <td>0.007673</td>\n",
       "      <td>0.013026</td>\n",
       "      <td>-0.529238</td>\n",
       "      <td>0.002833</td>\n",
       "    </tr>\n",
       "    <tr>\n",
       "      <th>4</th>\n",
       "      <td>housing</td>\n",
       "      <td>Rented apartment</td>\n",
       "      <td>10263</td>\n",
       "      <td>10218</td>\n",
       "      <td>45</td>\n",
       "      <td>0.015795</td>\n",
       "      <td>0.004385</td>\n",
       "      <td>0.015782</td>\n",
       "      <td>0.019540</td>\n",
       "      <td>-0.213570</td>\n",
       "      <td>0.000803</td>\n",
       "    </tr>\n",
       "  </tbody>\n",
       "</table>\n",
       "</div>"
      ],
      "text/plain": [
       "  Variable                Value     All    Good   Bad     Share  Bad Rate  \\\n",
       "0  housing      Co-op apartment    3605    3575    30  0.005548  0.008322   \n",
       "1  housing    House / apartment  574114  572122  1992  0.883602  0.003470   \n",
       "2  housing  Municipal apartment   21131   21030   101  0.032522  0.004780   \n",
       "3  housing     Office apartment    4998    4968    30  0.007692  0.006002   \n",
       "4  housing     Rented apartment   10263   10218    45  0.015795  0.004385   \n",
       "\n",
       "   Distribution Good  Distribution Bad       WoE        IV  \n",
       "0           0.005522          0.013026 -0.858290  0.006441  \n",
       "1           0.883668          0.864959  0.021400  0.000400  \n",
       "2           0.032482          0.043856 -0.300229  0.003415  \n",
       "3           0.007673          0.013026 -0.529238  0.002833  \n",
       "4           0.015782          0.019540 -0.213570  0.000803  "
      ]
     },
     "execution_count": 68,
     "metadata": {},
     "output_type": "execute_result"
    }
   ],
   "source": [
    "iv, data=calc_iv(new_df2,'housing','target')\n",
    "iv_data.loc[iv_data['variable']=='housing','IV']=iv\n",
    "data.head()"
   ]
  },
  {
   "cell_type": "code",
   "execution_count": 69,
   "metadata": {
    "tags": []
   },
   "outputs": [],
   "source": [
    "new_df2 = convert_dummy(new_df2,'housing')"
   ]
  },
  {
   "cell_type": "markdown",
   "metadata": {},
   "source": [
    "#### Education"
   ]
  },
  {
   "cell_type": "code",
   "execution_count": 70,
   "metadata": {
    "tags": []
   },
   "outputs": [
    {
     "name": "stdout",
     "output_type": "stream",
     "text": [
      "This variable's IV is: 0.04009105095797014\n",
      "Secondary / secondary special    423061\n",
      "Higher education                 192377\n",
      "Incomplete higher                 29118\n",
      "Lower secondary                    5187\n",
      "Name: education, dtype: int64\n"
     ]
    },
    {
     "data": {
      "text/html": [
       "<div>\n",
       "<style scoped>\n",
       "    .dataframe tbody tr th:only-of-type {\n",
       "        vertical-align: middle;\n",
       "    }\n",
       "\n",
       "    .dataframe tbody tr th {\n",
       "        vertical-align: top;\n",
       "    }\n",
       "\n",
       "    .dataframe thead th {\n",
       "        text-align: right;\n",
       "    }\n",
       "</style>\n",
       "<table border=\"1\" class=\"dataframe\">\n",
       "  <thead>\n",
       "    <tr style=\"text-align: right;\">\n",
       "      <th></th>\n",
       "      <th>Variable</th>\n",
       "      <th>Value</th>\n",
       "      <th>All</th>\n",
       "      <th>Good</th>\n",
       "      <th>Bad</th>\n",
       "      <th>Share</th>\n",
       "      <th>Bad Rate</th>\n",
       "      <th>Distribution Good</th>\n",
       "      <th>Distribution Bad</th>\n",
       "      <th>WoE</th>\n",
       "      <th>IV</th>\n",
       "    </tr>\n",
       "  </thead>\n",
       "  <tbody>\n",
       "    <tr>\n",
       "      <th>0</th>\n",
       "      <td>education</td>\n",
       "      <td>Higher education</td>\n",
       "      <td>192377</td>\n",
       "      <td>191548</td>\n",
       "      <td>829</td>\n",
       "      <td>0.296082</td>\n",
       "      <td>0.004309</td>\n",
       "      <td>0.295854</td>\n",
       "      <td>0.359965</td>\n",
       "      <td>-0.196140</td>\n",
       "      <td>0.012575</td>\n",
       "    </tr>\n",
       "    <tr>\n",
       "      <th>1</th>\n",
       "      <td>education</td>\n",
       "      <td>Incomplete higher</td>\n",
       "      <td>29118</td>\n",
       "      <td>29007</td>\n",
       "      <td>111</td>\n",
       "      <td>0.044815</td>\n",
       "      <td>0.003812</td>\n",
       "      <td>0.044803</td>\n",
       "      <td>0.048198</td>\n",
       "      <td>-0.073051</td>\n",
       "      <td>0.000248</td>\n",
       "    </tr>\n",
       "    <tr>\n",
       "      <th>2</th>\n",
       "      <td>education</td>\n",
       "      <td>Lower secondary</td>\n",
       "      <td>5187</td>\n",
       "      <td>5134</td>\n",
       "      <td>53</td>\n",
       "      <td>0.007983</td>\n",
       "      <td>0.010218</td>\n",
       "      <td>0.007930</td>\n",
       "      <td>0.023013</td>\n",
       "      <td>-1.065465</td>\n",
       "      <td>0.016071</td>\n",
       "    </tr>\n",
       "    <tr>\n",
       "      <th>3</th>\n",
       "      <td>education</td>\n",
       "      <td>Secondary / secondary special</td>\n",
       "      <td>423061</td>\n",
       "      <td>421751</td>\n",
       "      <td>1310</td>\n",
       "      <td>0.651121</td>\n",
       "      <td>0.003096</td>\n",
       "      <td>0.651413</td>\n",
       "      <td>0.568823</td>\n",
       "      <td>0.135574</td>\n",
       "      <td>0.011197</td>\n",
       "    </tr>\n",
       "  </tbody>\n",
       "</table>\n",
       "</div>"
      ],
      "text/plain": [
       "    Variable                          Value     All    Good   Bad     Share  \\\n",
       "0  education               Higher education  192377  191548   829  0.296082   \n",
       "1  education              Incomplete higher   29118   29007   111  0.044815   \n",
       "2  education                Lower secondary    5187    5134    53  0.007983   \n",
       "3  education  Secondary / secondary special  423061  421751  1310  0.651121   \n",
       "\n",
       "   Bad Rate  Distribution Good  Distribution Bad       WoE        IV  \n",
       "0  0.004309           0.295854          0.359965 -0.196140  0.012575  \n",
       "1  0.003812           0.044803          0.048198 -0.073051  0.000248  \n",
       "2  0.010218           0.007930          0.023013 -1.065465  0.016071  \n",
       "3  0.003096           0.651413          0.568823  0.135574  0.011197  "
      ]
     },
     "execution_count": 70,
     "metadata": {},
     "output_type": "execute_result"
    }
   ],
   "source": [
    "new_df2.loc[new_df2['education']=='Academic degree','education']='Higher education'\n",
    "iv, data=calc_iv(new_df2,'education','target')\n",
    "iv_data.loc[iv_data['variable']=='education','IV']=iv\n",
    "data.head()"
   ]
  },
  {
   "cell_type": "code",
   "execution_count": 71,
   "metadata": {
    "tags": []
   },
   "outputs": [],
   "source": [
    "new_df2 = convert_dummy(new_df2,'education')"
   ]
  },
  {
   "cell_type": "markdown",
   "metadata": {},
   "source": [
    "####  Marriage Status"
   ]
  },
  {
   "cell_type": "code",
   "execution_count": 72,
   "metadata": {
    "scrolled": true,
    "tags": []
   },
   "outputs": [
    {
     "data": {
      "text/plain": [
       "Civil marriage          0.081520\n",
       "Married                 0.714969\n",
       "Single / not married    0.122842\n",
       "Separated               0.058052\n",
       "Widow                   0.022617\n",
       "Name: marital_status, dtype: float64"
      ]
     },
     "execution_count": 72,
     "metadata": {},
     "output_type": "execute_result"
    }
   ],
   "source": [
    "new_df2['marital_status'].value_counts(normalize=True,sort=False)"
   ]
  },
  {
   "cell_type": "code",
   "execution_count": 73,
   "metadata": {
    "tags": []
   },
   "outputs": [
    {
     "name": "stdout",
     "output_type": "stream",
     "text": [
      "This variable's IV is: 0.05194190938845083\n",
      "Married                 464546\n",
      "Single / not married     79816\n",
      "Civil marriage           52967\n",
      "Separated                37719\n",
      "Widow                    14695\n",
      "Name: marital_status, dtype: int64\n"
     ]
    },
    {
     "data": {
      "text/html": [
       "<div>\n",
       "<style scoped>\n",
       "    .dataframe tbody tr th:only-of-type {\n",
       "        vertical-align: middle;\n",
       "    }\n",
       "\n",
       "    .dataframe tbody tr th {\n",
       "        vertical-align: top;\n",
       "    }\n",
       "\n",
       "    .dataframe thead th {\n",
       "        text-align: right;\n",
       "    }\n",
       "</style>\n",
       "<table border=\"1\" class=\"dataframe\">\n",
       "  <thead>\n",
       "    <tr style=\"text-align: right;\">\n",
       "      <th></th>\n",
       "      <th>Variable</th>\n",
       "      <th>Value</th>\n",
       "      <th>All</th>\n",
       "      <th>Good</th>\n",
       "      <th>Bad</th>\n",
       "      <th>Share</th>\n",
       "      <th>Bad Rate</th>\n",
       "      <th>Distribution Good</th>\n",
       "      <th>Distribution Bad</th>\n",
       "      <th>WoE</th>\n",
       "      <th>IV</th>\n",
       "    </tr>\n",
       "  </thead>\n",
       "  <tbody>\n",
       "    <tr>\n",
       "      <th>0</th>\n",
       "      <td>marital_status</td>\n",
       "      <td>Civil marriage</td>\n",
       "      <td>52967</td>\n",
       "      <td>52865</td>\n",
       "      <td>102</td>\n",
       "      <td>0.081520</td>\n",
       "      <td>0.001926</td>\n",
       "      <td>0.081652</td>\n",
       "      <td>0.044290</td>\n",
       "      <td>0.611710</td>\n",
       "      <td>0.022855</td>\n",
       "    </tr>\n",
       "    <tr>\n",
       "      <th>1</th>\n",
       "      <td>marital_status</td>\n",
       "      <td>Married</td>\n",
       "      <td>464546</td>\n",
       "      <td>462917</td>\n",
       "      <td>1629</td>\n",
       "      <td>0.714969</td>\n",
       "      <td>0.003507</td>\n",
       "      <td>0.714996</td>\n",
       "      <td>0.707338</td>\n",
       "      <td>0.010768</td>\n",
       "      <td>0.000082</td>\n",
       "    </tr>\n",
       "    <tr>\n",
       "      <th>2</th>\n",
       "      <td>marital_status</td>\n",
       "      <td>Separated</td>\n",
       "      <td>37719</td>\n",
       "      <td>37626</td>\n",
       "      <td>93</td>\n",
       "      <td>0.058052</td>\n",
       "      <td>0.002466</td>\n",
       "      <td>0.058115</td>\n",
       "      <td>0.040382</td>\n",
       "      <td>0.364038</td>\n",
       "      <td>0.006455</td>\n",
       "    </tr>\n",
       "    <tr>\n",
       "      <th>3</th>\n",
       "      <td>marital_status</td>\n",
       "      <td>Single / not married</td>\n",
       "      <td>79816</td>\n",
       "      <td>79410</td>\n",
       "      <td>406</td>\n",
       "      <td>0.122842</td>\n",
       "      <td>0.005087</td>\n",
       "      <td>0.122652</td>\n",
       "      <td>0.176292</td>\n",
       "      <td>-0.362787</td>\n",
       "      <td>0.019460</td>\n",
       "    </tr>\n",
       "    <tr>\n",
       "      <th>4</th>\n",
       "      <td>marital_status</td>\n",
       "      <td>Widow</td>\n",
       "      <td>14695</td>\n",
       "      <td>14622</td>\n",
       "      <td>73</td>\n",
       "      <td>0.022617</td>\n",
       "      <td>0.004968</td>\n",
       "      <td>0.022584</td>\n",
       "      <td>0.031698</td>\n",
       "      <td>-0.338990</td>\n",
       "      <td>0.003089</td>\n",
       "    </tr>\n",
       "  </tbody>\n",
       "</table>\n",
       "</div>"
      ],
      "text/plain": [
       "         Variable                 Value     All    Good   Bad     Share  \\\n",
       "0  marital_status        Civil marriage   52967   52865   102  0.081520   \n",
       "1  marital_status               Married  464546  462917  1629  0.714969   \n",
       "2  marital_status             Separated   37719   37626    93  0.058052   \n",
       "3  marital_status  Single / not married   79816   79410   406  0.122842   \n",
       "4  marital_status                 Widow   14695   14622    73  0.022617   \n",
       "\n",
       "   Bad Rate  Distribution Good  Distribution Bad       WoE        IV  \n",
       "0  0.001926           0.081652          0.044290  0.611710  0.022855  \n",
       "1  0.003507           0.714996          0.707338  0.010768  0.000082  \n",
       "2  0.002466           0.058115          0.040382  0.364038  0.006455  \n",
       "3  0.005087           0.122652          0.176292 -0.362787  0.019460  \n",
       "4  0.004968           0.022584          0.031698 -0.338990  0.003089  "
      ]
     },
     "execution_count": 73,
     "metadata": {},
     "output_type": "execute_result"
    }
   ],
   "source": [
    "iv, data=calc_iv(new_df2,'marital_status','target')\n",
    "iv_data.loc[iv_data['variable']=='marital_status','IV']=iv\n",
    "data.head()"
   ]
  },
  {
   "cell_type": "code",
   "execution_count": 74,
   "metadata": {
    "tags": []
   },
   "outputs": [],
   "source": [
    "new_data = convert_dummy(new_df2, 'marital_status')"
   ]
  },
  {
   "cell_type": "markdown",
   "metadata": {},
   "source": [
    "## Weight of Evidence"
   ]
  },
  {
   "cell_type": "markdown",
   "metadata": {},
   "source": [
    "Relationship between IV value and predictive power\n",
    "\n",
    "| IV| Ability to predict | \n",
    "|:------|:------:| \n",
    "| <0.02 | Almost no predictive power | \n",
    "|0.02~0.1 |weak predictive power|\n",
    "|0.1~0.3|Moderate predictive power|\n",
    "|0.3~0.5|Strong predictive power|\n",
    "|>0.5|Predictive power is too strong, need to check variables| "
   ]
  },
  {
   "cell_type": "code",
   "execution_count": 75,
   "metadata": {
    "tags": []
   },
   "outputs": [
    {
     "data": {
      "text/html": [
       "<div>\n",
       "<style scoped>\n",
       "    .dataframe tbody tr th:only-of-type {\n",
       "        vertical-align: middle;\n",
       "    }\n",
       "\n",
       "    .dataframe tbody tr th {\n",
       "        vertical-align: top;\n",
       "    }\n",
       "\n",
       "    .dataframe thead th {\n",
       "        text-align: right;\n",
       "    }\n",
       "</style>\n",
       "<table border=\"1\" class=\"dataframe\">\n",
       "  <thead>\n",
       "    <tr style=\"text-align: right;\">\n",
       "      <th></th>\n",
       "      <th>variable</th>\n",
       "      <th>IV</th>\n",
       "    </tr>\n",
       "  </thead>\n",
       "  <tbody>\n",
       "    <tr>\n",
       "      <th>6</th>\n",
       "      <td>income_category</td>\n",
       "      <td>0.052583</td>\n",
       "    </tr>\n",
       "    <tr>\n",
       "      <th>8</th>\n",
       "      <td>marital_status</td>\n",
       "      <td>0.051942</td>\n",
       "    </tr>\n",
       "    <tr>\n",
       "      <th>16</th>\n",
       "      <td>occupation</td>\n",
       "      <td>0.046588</td>\n",
       "    </tr>\n",
       "    <tr>\n",
       "      <th>7</th>\n",
       "      <td>education</td>\n",
       "      <td>0.040091</td>\n",
       "    </tr>\n",
       "    <tr>\n",
       "      <th>1</th>\n",
       "      <td>gender</td>\n",
       "      <td>0.036792</td>\n",
       "    </tr>\n",
       "    <tr>\n",
       "      <th>10</th>\n",
       "      <td>agegp</td>\n",
       "      <td>0.019437</td>\n",
       "    </tr>\n",
       "    <tr>\n",
       "      <th>9</th>\n",
       "      <td>housing</td>\n",
       "      <td>0.015611</td>\n",
       "    </tr>\n",
       "    <tr>\n",
       "      <th>4</th>\n",
       "      <td>children</td>\n",
       "      <td>0.01504</td>\n",
       "    </tr>\n",
       "    <tr>\n",
       "      <th>13</th>\n",
       "      <td>work_phone</td>\n",
       "      <td>0.014156</td>\n",
       "    </tr>\n",
       "    <tr>\n",
       "      <th>14</th>\n",
       "      <td>phone</td>\n",
       "      <td>0.013725</td>\n",
       "    </tr>\n",
       "    <tr>\n",
       "      <th>11</th>\n",
       "      <td>DAYS_EMPLOYED</td>\n",
       "      <td>0.010091</td>\n",
       "    </tr>\n",
       "    <tr>\n",
       "      <th>5</th>\n",
       "      <td>income</td>\n",
       "      <td>0.002875</td>\n",
       "    </tr>\n",
       "    <tr>\n",
       "      <th>15</th>\n",
       "      <td>email</td>\n",
       "      <td>0.00278</td>\n",
       "    </tr>\n",
       "    <tr>\n",
       "      <th>17</th>\n",
       "      <td>family_size</td>\n",
       "      <td>0.001989</td>\n",
       "    </tr>\n",
       "    <tr>\n",
       "      <th>3</th>\n",
       "      <td>property</td>\n",
       "      <td>0.000413</td>\n",
       "    </tr>\n",
       "    <tr>\n",
       "      <th>2</th>\n",
       "      <td>car</td>\n",
       "      <td>0.000238</td>\n",
       "    </tr>\n",
       "    <tr>\n",
       "      <th>19</th>\n",
       "      <td>MONTHS_BALANCE</td>\n",
       "      <td>None</td>\n",
       "    </tr>\n",
       "    <tr>\n",
       "      <th>20</th>\n",
       "      <td>STATUS</td>\n",
       "      <td>None</td>\n",
       "    </tr>\n",
       "  </tbody>\n",
       "</table>\n",
       "</div>"
      ],
      "text/plain": [
       "           variable        IV\n",
       "6   income_category  0.052583\n",
       "8    marital_status  0.051942\n",
       "16       occupation  0.046588\n",
       "7         education  0.040091\n",
       "1            gender  0.036792\n",
       "10            agegp  0.019437\n",
       "9           housing  0.015611\n",
       "4          children   0.01504\n",
       "13       work_phone  0.014156\n",
       "14            phone  0.013725\n",
       "11    DAYS_EMPLOYED  0.010091\n",
       "5            income  0.002875\n",
       "15            email   0.00278\n",
       "17      family_size  0.001989\n",
       "3          property  0.000413\n",
       "2               car  0.000238\n",
       "19   MONTHS_BALANCE      None\n",
       "20           STATUS      None"
      ]
     },
     "execution_count": 75,
     "metadata": {},
     "output_type": "execute_result"
    }
   ],
   "source": [
    "iv_data=iv_data.sort_values(by='IV',ascending=False)\n",
    "iv_data.loc[iv_data['variable']=='DAYS_BIRTH','variable']='agegp'\n",
    "#iv_data.loc[iv_data['variable']=='DAYS_EMPLOYED','variable']='work_yrsgp'\n",
    "iv_data.loc[iv_data['variable']=='inc','variable']='incomegp'\n",
    "iv_data"
   ]
  },
  {
   "cell_type": "code",
   "execution_count": 76,
   "metadata": {
    "tags": []
   },
   "outputs": [
    {
     "data": {
      "text/plain": [
       "0    647440\n",
       "1      2303\n",
       "Name: target, dtype: int64"
      ]
     },
     "execution_count": 76,
     "metadata": {},
     "output_type": "execute_result"
    }
   ],
   "source": [
    "new_df2['target'].value_counts()"
   ]
  },
  {
   "cell_type": "markdown",
   "metadata": {},
   "source": [
    "# Three Machine Learning Algorithms"
   ]
  },
  {
   "cell_type": "markdown",
   "metadata": {
    "tags": []
   },
   "source": [
    "+ Split Dataset"
   ]
  },
  {
   "cell_type": "code",
   "execution_count": 77,
   "metadata": {
    "tags": []
   },
   "outputs": [
    {
     "data": {
      "text/plain": [
       "Index(['ID', 'gender', 'car', 'property', 'income', 'DAYS_BIRTH',\n",
       "       'DAYS_EMPLOYED', 'FLAG_MOBIL', 'work_phone', 'phone', 'email',\n",
       "       'family_size', 'start_month', 'MONTHS_BALANCE', 'STATUS', 'debt_class',\n",
       "       'target', 'children_1', 'children_2More', 'gp_income_high',\n",
       "       'gp_income_medium', 'Age', 'gp_Age_high', 'gp_Age_highest',\n",
       "       'gp_Age_lowest', 'gp_Age_medium', 'work_yrs', 'gp_work_yrs_high',\n",
       "       'gp_work_yrs_highest', 'gp_work_yrs_low', 'gp_work_yrs_medium',\n",
       "       'family_sizegp_1', 'family_sizegp_3more',\n",
       "       'income_category_Commercial associate',\n",
       "       'income_category_Govt Paid & Students', 'occupation_execs_techwork',\n",
       "       'occupation_office_work', 'occupation_unspecified',\n",
       "       'housing_Co-op apartment', 'housing_Municipal apartment',\n",
       "       'housing_Office apartment', 'housing_Rented apartment',\n",
       "       'housing_With parents', 'education_Higher education',\n",
       "       'education_Incomplete higher', 'education_Lower secondary'],\n",
       "      dtype='object')"
      ]
     },
     "execution_count": 77,
     "metadata": {},
     "output_type": "execute_result"
    }
   ],
   "source": [
    "new_df2.columns"
   ]
  },
  {
   "cell_type": "code",
   "execution_count": null,
   "metadata": {},
   "outputs": [],
   "source": []
  },
  {
   "cell_type": "code",
   "execution_count": 78,
   "metadata": {
    "tags": []
   },
   "outputs": [],
   "source": [
    "y = new_df2['target']\n",
    "#X = new_df2.loc[:, new_df2.columns != ['ID', 'target']]\n",
    "X = new_df2[new_df2.columns.difference(['ID', 'target', 'debt_class', 'STATUS'])]\n",
    "\n",
    "#X = new_df2.drop(, axis=1)\n",
    "# X = new_data[['Gender','Reality','ChldNo_1', 'ChldNo_2More','wkphone',\n",
    "#               'gp_Age_high', 'gp_Age_highest', 'gp_Age_low',\n",
    "#        'gp_Age_lowest','gp_worktm_high', 'gp_worktm_highest',\n",
    "#        'gp_worktm_low', 'gp_worktm_medium','occyp_hightecwk', \n",
    "#               'occyp_officewk','famsizegp_1', 'famsizegp_3more',\n",
    "#        'houtp_Co-op apartment', 'houtp_Municipal apartment',\n",
    "#        'houtp_Office apartment', 'houtp_Rented apartment',\n",
    "#        'houtp_With parents','edutp_Higher education',\n",
    "#        'edutp_Incomplete higher', 'edutp_Lower secondary','famtp_Civil marriage',\n",
    "#        'famtp_Separated','famtp_Single / not married','famtp_Widow']]"
   ]
  },
  {
   "cell_type": "code",
   "execution_count": 79,
   "metadata": {},
   "outputs": [
    {
     "data": {
      "text/html": [
       "<div>\n",
       "<style scoped>\n",
       "    .dataframe tbody tr th:only-of-type {\n",
       "        vertical-align: middle;\n",
       "    }\n",
       "\n",
       "    .dataframe tbody tr th {\n",
       "        vertical-align: top;\n",
       "    }\n",
       "\n",
       "    .dataframe thead th {\n",
       "        text-align: right;\n",
       "    }\n",
       "</style>\n",
       "<table border=\"1\" class=\"dataframe\">\n",
       "  <thead>\n",
       "    <tr style=\"text-align: right;\">\n",
       "      <th></th>\n",
       "      <th>Age</th>\n",
       "      <th>DAYS_BIRTH</th>\n",
       "      <th>DAYS_EMPLOYED</th>\n",
       "      <th>FLAG_MOBIL</th>\n",
       "      <th>MONTHS_BALANCE</th>\n",
       "      <th>car</th>\n",
       "      <th>children_1</th>\n",
       "      <th>children_2More</th>\n",
       "      <th>education_Higher education</th>\n",
       "      <th>education_Incomplete higher</th>\n",
       "      <th>...</th>\n",
       "      <th>income_category_Commercial associate</th>\n",
       "      <th>income_category_Govt Paid &amp; Students</th>\n",
       "      <th>occupation_execs_techwork</th>\n",
       "      <th>occupation_office_work</th>\n",
       "      <th>occupation_unspecified</th>\n",
       "      <th>phone</th>\n",
       "      <th>property</th>\n",
       "      <th>start_month</th>\n",
       "      <th>work_phone</th>\n",
       "      <th>work_yrs</th>\n",
       "    </tr>\n",
       "  </thead>\n",
       "  <tbody>\n",
       "    <tr>\n",
       "      <th>0</th>\n",
       "      <td>32.0</td>\n",
       "      <td>-12005.0</td>\n",
       "      <td>-4542.0</td>\n",
       "      <td>1.0</td>\n",
       "      <td>0.0</td>\n",
       "      <td>1.0</td>\n",
       "      <td>0.0</td>\n",
       "      <td>0.0</td>\n",
       "      <td>1</td>\n",
       "      <td>0</td>\n",
       "      <td>...</td>\n",
       "      <td>0</td>\n",
       "      <td>0</td>\n",
       "      <td>0</td>\n",
       "      <td>0</td>\n",
       "      <td>1</td>\n",
       "      <td>0</td>\n",
       "      <td>1.0</td>\n",
       "      <td>-15.0</td>\n",
       "      <td>1</td>\n",
       "      <td>12.0</td>\n",
       "    </tr>\n",
       "    <tr>\n",
       "      <th>1</th>\n",
       "      <td>32.0</td>\n",
       "      <td>-12005.0</td>\n",
       "      <td>-4542.0</td>\n",
       "      <td>1.0</td>\n",
       "      <td>-1.0</td>\n",
       "      <td>1.0</td>\n",
       "      <td>0.0</td>\n",
       "      <td>0.0</td>\n",
       "      <td>1</td>\n",
       "      <td>0</td>\n",
       "      <td>...</td>\n",
       "      <td>0</td>\n",
       "      <td>0</td>\n",
       "      <td>0</td>\n",
       "      <td>0</td>\n",
       "      <td>1</td>\n",
       "      <td>0</td>\n",
       "      <td>1.0</td>\n",
       "      <td>-15.0</td>\n",
       "      <td>1</td>\n",
       "      <td>12.0</td>\n",
       "    </tr>\n",
       "    <tr>\n",
       "      <th>2</th>\n",
       "      <td>32.0</td>\n",
       "      <td>-12005.0</td>\n",
       "      <td>-4542.0</td>\n",
       "      <td>1.0</td>\n",
       "      <td>-2.0</td>\n",
       "      <td>1.0</td>\n",
       "      <td>0.0</td>\n",
       "      <td>0.0</td>\n",
       "      <td>1</td>\n",
       "      <td>0</td>\n",
       "      <td>...</td>\n",
       "      <td>0</td>\n",
       "      <td>0</td>\n",
       "      <td>0</td>\n",
       "      <td>0</td>\n",
       "      <td>1</td>\n",
       "      <td>0</td>\n",
       "      <td>1.0</td>\n",
       "      <td>-15.0</td>\n",
       "      <td>1</td>\n",
       "      <td>12.0</td>\n",
       "    </tr>\n",
       "    <tr>\n",
       "      <th>3</th>\n",
       "      <td>32.0</td>\n",
       "      <td>-12005.0</td>\n",
       "      <td>-4542.0</td>\n",
       "      <td>1.0</td>\n",
       "      <td>-3.0</td>\n",
       "      <td>1.0</td>\n",
       "      <td>0.0</td>\n",
       "      <td>0.0</td>\n",
       "      <td>1</td>\n",
       "      <td>0</td>\n",
       "      <td>...</td>\n",
       "      <td>0</td>\n",
       "      <td>0</td>\n",
       "      <td>0</td>\n",
       "      <td>0</td>\n",
       "      <td>1</td>\n",
       "      <td>0</td>\n",
       "      <td>1.0</td>\n",
       "      <td>-15.0</td>\n",
       "      <td>1</td>\n",
       "      <td>12.0</td>\n",
       "    </tr>\n",
       "    <tr>\n",
       "      <th>4</th>\n",
       "      <td>32.0</td>\n",
       "      <td>-12005.0</td>\n",
       "      <td>-4542.0</td>\n",
       "      <td>1.0</td>\n",
       "      <td>-4.0</td>\n",
       "      <td>1.0</td>\n",
       "      <td>0.0</td>\n",
       "      <td>0.0</td>\n",
       "      <td>1</td>\n",
       "      <td>0</td>\n",
       "      <td>...</td>\n",
       "      <td>0</td>\n",
       "      <td>0</td>\n",
       "      <td>0</td>\n",
       "      <td>0</td>\n",
       "      <td>1</td>\n",
       "      <td>0</td>\n",
       "      <td>1.0</td>\n",
       "      <td>-15.0</td>\n",
       "      <td>1</td>\n",
       "      <td>12.0</td>\n",
       "    </tr>\n",
       "    <tr>\n",
       "      <th>...</th>\n",
       "      <td>...</td>\n",
       "      <td>...</td>\n",
       "      <td>...</td>\n",
       "      <td>...</td>\n",
       "      <td>...</td>\n",
       "      <td>...</td>\n",
       "      <td>...</td>\n",
       "      <td>...</td>\n",
       "      <td>...</td>\n",
       "      <td>...</td>\n",
       "      <td>...</td>\n",
       "      <td>...</td>\n",
       "      <td>...</td>\n",
       "      <td>...</td>\n",
       "      <td>...</td>\n",
       "      <td>...</td>\n",
       "      <td>...</td>\n",
       "      <td>...</td>\n",
       "      <td>...</td>\n",
       "      <td>...</td>\n",
       "      <td>...</td>\n",
       "    </tr>\n",
       "    <tr>\n",
       "      <th>777710</th>\n",
       "      <td>25.0</td>\n",
       "      <td>-9188.0</td>\n",
       "      <td>-1193.0</td>\n",
       "      <td>1.0</td>\n",
       "      <td>-9.0</td>\n",
       "      <td>0.0</td>\n",
       "      <td>0.0</td>\n",
       "      <td>0.0</td>\n",
       "      <td>0</td>\n",
       "      <td>0</td>\n",
       "      <td>...</td>\n",
       "      <td>0</td>\n",
       "      <td>0</td>\n",
       "      <td>0</td>\n",
       "      <td>0</td>\n",
       "      <td>0</td>\n",
       "      <td>0</td>\n",
       "      <td>1.0</td>\n",
       "      <td>-13.0</td>\n",
       "      <td>0</td>\n",
       "      <td>3.0</td>\n",
       "    </tr>\n",
       "    <tr>\n",
       "      <th>777711</th>\n",
       "      <td>25.0</td>\n",
       "      <td>-9188.0</td>\n",
       "      <td>-1193.0</td>\n",
       "      <td>1.0</td>\n",
       "      <td>-10.0</td>\n",
       "      <td>0.0</td>\n",
       "      <td>0.0</td>\n",
       "      <td>0.0</td>\n",
       "      <td>0</td>\n",
       "      <td>0</td>\n",
       "      <td>...</td>\n",
       "      <td>0</td>\n",
       "      <td>0</td>\n",
       "      <td>0</td>\n",
       "      <td>0</td>\n",
       "      <td>0</td>\n",
       "      <td>0</td>\n",
       "      <td>1.0</td>\n",
       "      <td>-13.0</td>\n",
       "      <td>0</td>\n",
       "      <td>3.0</td>\n",
       "    </tr>\n",
       "    <tr>\n",
       "      <th>777712</th>\n",
       "      <td>25.0</td>\n",
       "      <td>-9188.0</td>\n",
       "      <td>-1193.0</td>\n",
       "      <td>1.0</td>\n",
       "      <td>-11.0</td>\n",
       "      <td>0.0</td>\n",
       "      <td>0.0</td>\n",
       "      <td>0.0</td>\n",
       "      <td>0</td>\n",
       "      <td>0</td>\n",
       "      <td>...</td>\n",
       "      <td>0</td>\n",
       "      <td>0</td>\n",
       "      <td>0</td>\n",
       "      <td>0</td>\n",
       "      <td>0</td>\n",
       "      <td>0</td>\n",
       "      <td>1.0</td>\n",
       "      <td>-13.0</td>\n",
       "      <td>0</td>\n",
       "      <td>3.0</td>\n",
       "    </tr>\n",
       "    <tr>\n",
       "      <th>777713</th>\n",
       "      <td>25.0</td>\n",
       "      <td>-9188.0</td>\n",
       "      <td>-1193.0</td>\n",
       "      <td>1.0</td>\n",
       "      <td>-12.0</td>\n",
       "      <td>0.0</td>\n",
       "      <td>0.0</td>\n",
       "      <td>0.0</td>\n",
       "      <td>0</td>\n",
       "      <td>0</td>\n",
       "      <td>...</td>\n",
       "      <td>0</td>\n",
       "      <td>0</td>\n",
       "      <td>0</td>\n",
       "      <td>0</td>\n",
       "      <td>0</td>\n",
       "      <td>0</td>\n",
       "      <td>1.0</td>\n",
       "      <td>-13.0</td>\n",
       "      <td>0</td>\n",
       "      <td>3.0</td>\n",
       "    </tr>\n",
       "    <tr>\n",
       "      <th>777714</th>\n",
       "      <td>25.0</td>\n",
       "      <td>-9188.0</td>\n",
       "      <td>-1193.0</td>\n",
       "      <td>1.0</td>\n",
       "      <td>-13.0</td>\n",
       "      <td>0.0</td>\n",
       "      <td>0.0</td>\n",
       "      <td>0.0</td>\n",
       "      <td>0</td>\n",
       "      <td>0</td>\n",
       "      <td>...</td>\n",
       "      <td>0</td>\n",
       "      <td>0</td>\n",
       "      <td>0</td>\n",
       "      <td>0</td>\n",
       "      <td>0</td>\n",
       "      <td>0</td>\n",
       "      <td>1.0</td>\n",
       "      <td>-13.0</td>\n",
       "      <td>0</td>\n",
       "      <td>3.0</td>\n",
       "    </tr>\n",
       "  </tbody>\n",
       "</table>\n",
       "<p>649743 rows × 42 columns</p>\n",
       "</div>"
      ],
      "text/plain": [
       "         Age  DAYS_BIRTH  DAYS_EMPLOYED  FLAG_MOBIL  MONTHS_BALANCE  car  \\\n",
       "0       32.0    -12005.0        -4542.0         1.0             0.0  1.0   \n",
       "1       32.0    -12005.0        -4542.0         1.0            -1.0  1.0   \n",
       "2       32.0    -12005.0        -4542.0         1.0            -2.0  1.0   \n",
       "3       32.0    -12005.0        -4542.0         1.0            -3.0  1.0   \n",
       "4       32.0    -12005.0        -4542.0         1.0            -4.0  1.0   \n",
       "...      ...         ...            ...         ...             ...  ...   \n",
       "777710  25.0     -9188.0        -1193.0         1.0            -9.0  0.0   \n",
       "777711  25.0     -9188.0        -1193.0         1.0           -10.0  0.0   \n",
       "777712  25.0     -9188.0        -1193.0         1.0           -11.0  0.0   \n",
       "777713  25.0     -9188.0        -1193.0         1.0           -12.0  0.0   \n",
       "777714  25.0     -9188.0        -1193.0         1.0           -13.0  0.0   \n",
       "\n",
       "        children_1  children_2More  education_Higher education  \\\n",
       "0              0.0             0.0                           1   \n",
       "1              0.0             0.0                           1   \n",
       "2              0.0             0.0                           1   \n",
       "3              0.0             0.0                           1   \n",
       "4              0.0             0.0                           1   \n",
       "...            ...             ...                         ...   \n",
       "777710         0.0             0.0                           0   \n",
       "777711         0.0             0.0                           0   \n",
       "777712         0.0             0.0                           0   \n",
       "777713         0.0             0.0                           0   \n",
       "777714         0.0             0.0                           0   \n",
       "\n",
       "        education_Incomplete higher  ...  \\\n",
       "0                                 0  ...   \n",
       "1                                 0  ...   \n",
       "2                                 0  ...   \n",
       "3                                 0  ...   \n",
       "4                                 0  ...   \n",
       "...                             ...  ...   \n",
       "777710                            0  ...   \n",
       "777711                            0  ...   \n",
       "777712                            0  ...   \n",
       "777713                            0  ...   \n",
       "777714                            0  ...   \n",
       "\n",
       "        income_category_Commercial associate  \\\n",
       "0                                          0   \n",
       "1                                          0   \n",
       "2                                          0   \n",
       "3                                          0   \n",
       "4                                          0   \n",
       "...                                      ...   \n",
       "777710                                     0   \n",
       "777711                                     0   \n",
       "777712                                     0   \n",
       "777713                                     0   \n",
       "777714                                     0   \n",
       "\n",
       "       income_category_Govt Paid & Students  occupation_execs_techwork  \\\n",
       "0                                         0                          0   \n",
       "1                                         0                          0   \n",
       "2                                         0                          0   \n",
       "3                                         0                          0   \n",
       "4                                         0                          0   \n",
       "...                                     ...                        ...   \n",
       "777710                                    0                          0   \n",
       "777711                                    0                          0   \n",
       "777712                                    0                          0   \n",
       "777713                                    0                          0   \n",
       "777714                                    0                          0   \n",
       "\n",
       "        occupation_office_work  occupation_unspecified  phone  property  \\\n",
       "0                            0                       1      0       1.0   \n",
       "1                            0                       1      0       1.0   \n",
       "2                            0                       1      0       1.0   \n",
       "3                            0                       1      0       1.0   \n",
       "4                            0                       1      0       1.0   \n",
       "...                        ...                     ...    ...       ...   \n",
       "777710                       0                       0      0       1.0   \n",
       "777711                       0                       0      0       1.0   \n",
       "777712                       0                       0      0       1.0   \n",
       "777713                       0                       0      0       1.0   \n",
       "777714                       0                       0      0       1.0   \n",
       "\n",
       "        start_month  work_phone  work_yrs  \n",
       "0             -15.0           1      12.0  \n",
       "1             -15.0           1      12.0  \n",
       "2             -15.0           1      12.0  \n",
       "3             -15.0           1      12.0  \n",
       "4             -15.0           1      12.0  \n",
       "...             ...         ...       ...  \n",
       "777710        -13.0           0       3.0  \n",
       "777711        -13.0           0       3.0  \n",
       "777712        -13.0           0       3.0  \n",
       "777713        -13.0           0       3.0  \n",
       "777714        -13.0           0       3.0  \n",
       "\n",
       "[649743 rows x 42 columns]"
      ]
     },
     "execution_count": 79,
     "metadata": {},
     "output_type": "execute_result"
    }
   ],
   "source": [
    "X"
   ]
  },
  {
   "cell_type": "markdown",
   "metadata": {},
   "source": [
    "+ Using Synthetic Minority Over-Sampling Technique(`SMOTE`) to overcome sample imbalance problem."
   ]
  },
  {
   "cell_type": "code",
   "execution_count": 80,
   "metadata": {
    "tags": []
   },
   "outputs": [],
   "source": [
    "y = y.astype('int')\n",
    "X_balance,y_balance = SMOTE().fit_resample(X,y)\n",
    "X_balance = pd.DataFrame(X_balance, columns = X.columns)"
   ]
  },
  {
   "cell_type": "markdown",
   "metadata": {},
   "source": [
    "+ After over sampling, the number between 1 and 0 is balanced. It can be seen from the confusion matrix."
   ]
  },
  {
   "cell_type": "code",
   "execution_count": 81,
   "metadata": {
    "tags": []
   },
   "outputs": [],
   "source": [
    "X_train, X_test, y_train, y_test = train_test_split(X_balance,y_balance, \n",
    "                                                    stratify=y_balance, test_size=0.3,\n",
    "                                                    random_state = 102)"
   ]
  },
  {
   "cell_type": "code",
   "execution_count": 82,
   "metadata": {
    "tags": []
   },
   "outputs": [
    {
     "name": "stdout",
     "output_type": "stream",
     "text": [
      "<class 'pandas.core.frame.DataFrame'>\n",
      "Int64Index: 649743 entries, 0 to 777714\n",
      "Data columns (total 50 columns):\n",
      " #   Column                                Non-Null Count   Dtype  \n",
      "---  ------                                --------------   -----  \n",
      " 0   ID                                    649743 non-null  float64\n",
      " 1   gender                                649743 non-null  float64\n",
      " 2   car                                   649743 non-null  float64\n",
      " 3   property                              649743 non-null  float64\n",
      " 4   income                                649743 non-null  object \n",
      " 5   DAYS_BIRTH                            649743 non-null  float64\n",
      " 6   DAYS_EMPLOYED                         649743 non-null  float64\n",
      " 7   FLAG_MOBIL                            649743 non-null  float64\n",
      " 8   work_phone                            649743 non-null  object \n",
      " 9   phone                                 649743 non-null  object \n",
      " 10  email                                 649743 non-null  object \n",
      " 11  family_size                           649743 non-null  int64  \n",
      " 12  start_month                           649743 non-null  float64\n",
      " 13  MONTHS_BALANCE                        649743 non-null  float64\n",
      " 14  STATUS                                649743 non-null  object \n",
      " 15  debt_class                            649743 non-null  object \n",
      " 16  target                                649743 non-null  object \n",
      " 17  children_1                            649743 non-null  float64\n",
      " 18  children_2More                        649743 non-null  float64\n",
      " 19  gp_income_high                        649743 non-null  float64\n",
      " 20  gp_income_medium                      649743 non-null  float64\n",
      " 21  Age                                   649743 non-null  float64\n",
      " 22  gp_Age_high                           649743 non-null  float64\n",
      " 23  gp_Age_highest                        649743 non-null  float64\n",
      " 24  gp_Age_lowest                         649743 non-null  float64\n",
      " 25  gp_Age_medium                         649743 non-null  float64\n",
      " 26  work_yrs                              649743 non-null  float64\n",
      " 27  gp_work_yrs_high                      649743 non-null  uint8  \n",
      " 28  gp_work_yrs_highest                   649743 non-null  uint8  \n",
      " 29  gp_work_yrs_low                       649743 non-null  uint8  \n",
      " 30  gp_work_yrs_medium                    649743 non-null  uint8  \n",
      " 31  family_sizegp_1                       649743 non-null  uint8  \n",
      " 32  family_sizegp_3more                   649743 non-null  uint8  \n",
      " 33  income_category_Commercial associate  649743 non-null  uint8  \n",
      " 34  income_category_Govt Paid & Students  649743 non-null  uint8  \n",
      " 35  occupation_execs_techwork             649743 non-null  uint8  \n",
      " 36  occupation_office_work                649743 non-null  uint8  \n",
      " 37  occupation_unspecified                649743 non-null  uint8  \n",
      " 38  housing_Co-op apartment               649743 non-null  uint8  \n",
      " 39  housing_Municipal apartment           649743 non-null  uint8  \n",
      " 40  housing_Office apartment              649743 non-null  uint8  \n",
      " 41  housing_Rented apartment              649743 non-null  uint8  \n",
      " 42  housing_With parents                  649743 non-null  uint8  \n",
      " 43  education_Higher education            649743 non-null  uint8  \n",
      " 44  education_Incomplete higher           649743 non-null  uint8  \n",
      " 45  education_Lower secondary             649743 non-null  uint8  \n",
      " 46  marital_status_Civil marriage         649743 non-null  uint8  \n",
      " 47  marital_status_Separated              649743 non-null  uint8  \n",
      " 48  marital_status_Single / not married   649743 non-null  uint8  \n",
      " 49  marital_status_Widow                  649743 non-null  uint8  \n",
      "dtypes: float64(19), int64(1), object(7), uint8(23)\n",
      "memory usage: 169.2+ MB\n"
     ]
    }
   ],
   "source": [
    "new_data.info()"
   ]
  },
  {
   "cell_type": "markdown",
   "metadata": {},
   "source": [
    "## 1) Logistic Regression   "
   ]
  },
  {
   "cell_type": "code",
   "execution_count": 83,
   "metadata": {
    "tags": []
   },
   "outputs": [
    {
     "name": "stdout",
     "output_type": "stream",
     "text": [
      "Accuracy Score is 0.609\n",
      "        0       1\n",
      "0  100601   93631\n",
      "1   58258  135974\n",
      "[[0.51794246 0.48205754]\n",
      " [0.29994028 0.70005972]]\n"
     ]
    },
    {
     "data": {
      "image/png": "[encoded data removed]",
      "text/plain": [
       "<Figure size 432x288 with 2 Axes>"
      ]
     },
     "metadata": {},
     "output_type": "display_data"
    }
   ],
   "source": [
    "model = LogisticRegression(C=0.8,\n",
    "                           random_state=23,\n",
    "                           solver='lbfgs')\n",
    "model.fit(X_train, y_train)\n",
    "y_predict = model.predict(X_test)\n",
    "\n",
    "print('Accuracy Score is {:.5}'.format(accuracy_score(y_test, y_predict)))\n",
    "print(pd.DataFrame(confusion_matrix(y_test,y_predict)))\n",
    "\n",
    "sns.set_style('white') \n",
    "class_names = ['0','1']\n",
    "plot_confusion_matrix(confusion_matrix(y_test,y_predict),\n",
    "                      classes= class_names, normalize = True, \n",
    "                      title='Normalized Confusion Matrix: Logistic Regression')\n"
   ]
  },
  {
   "cell_type": "code",
   "execution_count": 84,
   "metadata": {
    "tags": []
   },
   "outputs": [
    {
     "name": "stdout",
     "output_type": "stream",
     "text": [
      "The model accuracy is 60.90010914782322%.\n"
     ]
    }
   ],
   "source": [
    "LR_score = accuracy_score(y_test, y_predict)\n",
    "LR_percent = LR_score*100\n",
    "print(f'The model accuracy is {LR_percent}%.')"
   ]
  },
  {
   "cell_type": "code",
   "execution_count": null,
   "metadata": {},
   "outputs": [],
   "source": []
  },
  {
   "cell_type": "markdown",
   "metadata": {},
   "source": [
    "## Decision Tree"
   ]
  },
  {
   "cell_type": "code",
   "execution_count": 85,
   "metadata": {
    "tags": []
   },
   "outputs": [
    {
     "name": "stdout",
     "output_type": "stream",
     "text": [
      "Accuracy Score is 0.95052\n",
      "        0       1\n",
      "0  179233   14999\n",
      "1    4222  190010\n",
      "[[0.92277792 0.07722208]\n",
      " [0.02173689 0.97826311]]\n"
     ]
    },
    {
     "data": {
      "image/png": "[encoded data removed]",
      "text/plain": [
       "<Figure size 432x288 with 2 Axes>"
      ]
     },
     "metadata": {},
     "output_type": "display_data"
    }
   ],
   "source": [
    "model = DecisionTreeClassifier(max_depth=12,\n",
    "                               min_samples_split=8,\n",
    "                               random_state=1124)\n",
    "model.fit(X_train, y_train)\n",
    "y_predict = model.predict(X_test)\n",
    "\n",
    "print('Accuracy Score is {:.5}'.format(accuracy_score(y_test, y_predict)))\n",
    "print(pd.DataFrame(confusion_matrix(y_test,y_predict)))\n",
    "\n",
    "plot_confusion_matrix(confusion_matrix(y_test,y_predict),\n",
    "                      classes=class_names, normalize = True, \n",
    "                      title='Normalized Confusion Matrix: CART')"
   ]
  },
  {
   "cell_type": "code",
   "execution_count": 86,
   "metadata": {
    "tags": []
   },
   "outputs": [
    {
     "name": "stdout",
     "output_type": "stream",
     "text": [
      "The model accuracy is 95.05205115531942%.\n"
     ]
    }
   ],
   "source": [
    "DT_score = accuracy_score(y_test, y_predict)\n",
    "DT_percent = DT_score*100\n",
    "print(f'The model accuracy is {DT_percent}%.')"
   ]
  },
  {
   "cell_type": "markdown",
   "metadata": {},
   "source": [
    "## Random Forest   "
   ]
  },
  {
   "cell_type": "code",
   "execution_count": 87,
   "metadata": {
    "tags": []
   },
   "outputs": [
    {
     "name": "stdout",
     "output_type": "stream",
     "text": [
      "Accuracy Score is 0.97691\n",
      "        0       1\n",
      "0  190299    3933\n",
      "1    5036  189196\n",
      "[[0.97975102 0.02024898]\n",
      " [0.02592776 0.97407224]]\n"
     ]
    },
    {
     "data": {
      "image/png": "[encoded data removed]",
      "text/plain": [
       "<Figure size 432x288 with 2 Axes>"
      ]
     },
     "metadata": {},
     "output_type": "display_data"
    }
   ],
   "source": [
    "model = RandomForestClassifier(n_estimators=250,\n",
    "                              max_depth=13,\n",
    "                              min_samples_leaf=16\n",
    "                              )\n",
    "\n",
    "model.fit(X_train, y_train)\n",
    "\n",
    "\n",
    "y_predict = model.predict(X_test)\n",
    "\n",
    "\n",
    "print('Accuracy Score is {:.5}'.format(accuracy_score(y_test, y_predict)))\n",
    "print(pd.DataFrame(confusion_matrix(y_test,y_predict)))\n",
    "\n",
    "plot_confusion_matrix(confusion_matrix(y_test,y_predict),\n",
    "                      classes=class_names, normalize = True, \n",
    "                      title='Normalized Confusion Matrix: Random Forests')"
   ]
  },
  {
   "cell_type": "code",
   "execution_count": 88,
   "metadata": {
    "tags": []
   },
   "outputs": [
    {
     "name": "stdout",
     "output_type": "stream",
     "text": [
      "The model accuracy is 97.69116314510482%.\n"
     ]
    }
   ],
   "source": [
    "RF_score = accuracy_score(y_test, y_predict)\n",
    "RF_percent = RF_score*100\n",
    "print(f'The model accuracy is {RF_percent}%.')"
   ]
  },
  {
   "cell_type": "code",
   "execution_count": 89,
   "metadata": {},
   "outputs": [
    {
     "data": {
      "image/png": "[encoded data removed]",
      "text/plain": [
       "<Figure size 1332x756 with 1 Axes>"
      ]
     },
     "metadata": {},
     "output_type": "display_data"
    }
   ],
   "source": [
    "features = X.columns\n",
    "importances = model.feature_importances_\n",
    "indices = np.argsort(importances)\n",
    "\n",
    "plt.title('Feature Importances')\n",
    "fig = plt.gcf()\n",
    "fig.set_size_inches(18.5, 10.5)\n",
    "plt.barh(range(len(indices)), importances[indices], color='b', align='center')\n",
    "plt.yticks(range(len(indices)), [features[i] for i in indices])\n",
    "plt.xlabel('Relative Importance')\n",
    "plt.show()"
   ]
  },
  {
   "cell_type": "code",
   "execution_count": 90,
   "metadata": {
    "tags": []
   },
   "outputs": [
    {
     "data": {
      "text/plain": [
       "['../model/model.pkl']"
      ]
     },
     "execution_count": 90,
     "metadata": {},
     "output_type": "execute_result"
    }
   ],
   "source": [
    "# Persist the model\n",
    "joblib.dump(model, '../model/model.pkl')\n",
    "# model = joblib.load('model.pkl')"
   ]
  },
  {
   "cell_type": "code",
   "execution_count": null,
   "metadata": {
    "tags": []
   },
   "outputs": [],
   "source": []
  },
  {
   "cell_type": "code",
   "execution_count": 91,
   "metadata": {},
   "outputs": [
    {
     "ename": "AttributeError",
     "evalue": "module 'joblib' has no attribute 'dumps'",
     "output_type": "error",
     "traceback": [
      "\u001b[0;31m---------------------------------------------------------------------------\u001b[0m",
      "\u001b[0;31mAttributeError\u001b[0m                            Traceback (most recent call last)",
      "\u001b[0;32m<ipython-input-91-37b7cf0c90c0>\u001b[0m in \u001b[0;36m<module>\u001b[0;34m\u001b[0m\n\u001b[1;32m      1\u001b[0m \u001b[0;31m# Persist model columns\u001b[0m\u001b[0;34m\u001b[0m\u001b[0;34m\u001b[0m\u001b[0;34m\u001b[0m\u001b[0m\n\u001b[1;32m      2\u001b[0m \u001b[0mmodel_columns\u001b[0m \u001b[0;34m=\u001b[0m \u001b[0mlist\u001b[0m\u001b[0;34m(\u001b[0m\u001b[0mX_train\u001b[0m\u001b[0;34m.\u001b[0m\u001b[0mcolumns\u001b[0m\u001b[0;34m)\u001b[0m\u001b[0;34m\u001b[0m\u001b[0;34m\u001b[0m\u001b[0m\n\u001b[0;32m----> 3\u001b[0;31m \u001b[0mjoblib\u001b[0m\u001b[0;34m.\u001b[0m\u001b[0mdumps\u001b[0m\u001b[0;34m(\u001b[0m\u001b[0mmodel_columns\u001b[0m\u001b[0;34m,\u001b[0m \u001b[0;34m'../model/model_columns.pkl'\u001b[0m\u001b[0;34m)\u001b[0m\u001b[0;34m\u001b[0m\u001b[0;34m\u001b[0m\u001b[0m\n\u001b[0m",
      "\u001b[0;31mAttributeError\u001b[0m: module 'joblib' has no attribute 'dumps'"
     ]
    }
   ],
   "source": [
    "# Persist model columns\n",
    "model_columns = list(X_train.columns)\n",
    "joblib.dumps(model_columns, '../model/model_columns.pkl')"
   ]
  },
  {
   "cell_type": "code",
   "execution_count": null,
   "metadata": {},
   "outputs": [],
   "source": []
  }
 ],
 "metadata": {
  "kernelspec": {
   "display_name": "Python 3",
   "language": "python",
   "name": "python3"
  },
  "language_info": {
   "codemirror_mode": {
    "name": "ipython",
    "version": 3
   },
   "file_extension": ".py",
   "mimetype": "text/x-python",
   "name": "python",
   "nbconvert_exporter": "python",
   "pygments_lexer": "ipython3",
   "version": "3.8.8"
  },
  "toc-showtags": false
 },
 "nbformat": 4,
 "nbformat_minor": 4
}
